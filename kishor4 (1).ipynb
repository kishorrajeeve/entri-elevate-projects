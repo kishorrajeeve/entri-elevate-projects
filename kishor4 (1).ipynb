{
  "nbformat": 4,
  "nbformat_minor": 0,
  "metadata": {
    "colab": {
      "provenance": []
    },
    "kernelspec": {
      "name": "python3",
      "display_name": "Python 3"
    },
    "language_info": {
      "name": "python"
    }
  },
  "cells": [
    {
      "cell_type": "markdown",
      "source": [
        "1.Write a Python program to check that a string contains only a certain set of characters (in this case a-z, A-Z and 0-9)."
      ],
      "metadata": {
        "id": "tRHv1wA9td11"
      }
    },
    {
      "cell_type": "code",
      "source": [
        "# prompt:\n",
        "\n",
        "import re\n",
        "def check_string(string):\n",
        "  pattern = re.compile('^[a-zA-Z0-9]+$')\n",
        "  return pattern.match(string)\n",
        "if __name__ == \"__main__\":\n",
        "  string = input(\"Enter a string: \")\n",
        "  if check_string(string):\n",
        "    print(\"The string contains only a-z, A-Z and 0-9.\")\n",
        "  else:\n",
        "    print(\"The string contains invalid characters.\")\n"
      ],
      "metadata": {
        "colab": {
          "base_uri": "https://localhost:8080/"
        },
        "id": "lWQiiY2FtseE",
        "outputId": "5592e891-469e-4479-9eda-5b72a1e26621"
      },
      "execution_count": null,
      "outputs": [
        {
          "output_type": "stream",
          "name": "stdout",
          "text": [
            "Enter a string: jfu565656\n",
            "The string contains only a-z, A-Z and 0-9.\n"
          ]
        }
      ]
    },
    {
      "cell_type": "markdown",
      "source": [
        "2.Write a Python program that matches a string that has an a followed by zero or more b's."
      ],
      "metadata": {
        "id": "lD0r1sgBuC4u"
      }
    },
    {
      "cell_type": "code",
      "source": [
        "# prompt:\n",
        "\n",
        "import re\n",
        "def check_string(string):\n",
        "  pattern = re.compile('a[b]*')\n",
        "  return pattern.match(string)\n",
        "if __name__ == \"__main__\":\n",
        "  string = input(\"Enter a string: \")\n",
        "  if check_string(string):\n",
        "    print(\"The string has an a followed by zero or more b's.\")\n",
        "  else:\n",
        "    print(\"The string does not have an a followed by zero or more b's.\")\n"
      ],
      "metadata": {
        "colab": {
          "base_uri": "https://localhost:8080/"
        },
        "id": "A3VmIuXeuH7m",
        "outputId": "7b27d7b6-fc71-416e-868d-cfbbd31435c5"
      },
      "execution_count": null,
      "outputs": [
        {
          "output_type": "stream",
          "name": "stdout",
          "text": [
            "Enter a string: 0ab\n",
            "The string does not have an a followed by zero or more b's.\n"
          ]
        }
      ]
    },
    {
      "cell_type": "markdown",
      "source": [
        "3.Replace only the first occurrence of 5 with five for the given string using regx"
      ],
      "metadata": {
        "id": "8tV7SiI4HQ6t"
      }
    },
    {
      "cell_type": "code",
      "source": [
        "# prompt:\n",
        "\n",
        "string = \"I have 5 apples and 7 oranges\"\n",
        "string = re.sub('5', 'five', string, 1)\n",
        "print(string)\n"
      ],
      "metadata": {
        "colab": {
          "base_uri": "https://localhost:8080/"
        },
        "id": "cvuBZq9LHnTe",
        "outputId": "9bf34c2d-9ce4-4201-fd2f-4abd8023d0aa"
      },
      "execution_count": null,
      "outputs": [
        {
          "output_type": "stream",
          "name": "stdout",
          "text": [
            "I have five apples and 7 oranges\n"
          ]
        }
      ]
    },
    {
      "cell_type": "markdown",
      "source": [
        "4.Write a Python program that matches a string that has an a followed by three 'b'."
      ],
      "metadata": {
        "id": "pLfRWqiOkCkb"
      }
    },
    {
      "cell_type": "code",
      "source": [
        "# prompt:\n",
        "\n",
        "import re\n",
        "\n",
        "def check_string(string):\n",
        "  pattern = re.compile('a(b{3})')\n",
        "  return pattern.match(string)\n",
        "if __name__ == \"__main__\":\n",
        "  string = input(\"Enter a string: \")\n",
        "  if check_string(string):\n",
        "    print(\"The string has an a followed by three b's.\")\n",
        "  else:\n",
        "    print(\"The string does not have an a followed by three b's.\")\n"
      ],
      "metadata": {
        "colab": {
          "base_uri": "https://localhost:8080/"
        },
        "id": "aYUvNBYnkM2b",
        "outputId": "74f711cb-9599-4418-eb40-c8e728483711"
      },
      "execution_count": null,
      "outputs": [
        {
          "output_type": "stream",
          "name": "stdout",
          "text": [
            "Enter a string: abbbba\n",
            "The string has an a followed by three b's.\n"
          ]
        }
      ]
    },
    {
      "cell_type": "code",
      "source": [
        "import re\n",
        "\n",
        "pattern = r\"a(b{3})\"\n",
        "\n",
        "test_strings = [\"ab\", \"abb\", \"abbb\", \"abc\", \"abba\",\"abbbba\"]\n",
        "\n",
        "for string in test_strings:\n",
        "  if re.fullmatch(pattern, string):\n",
        "    print(f\"'{string}' matches the pattern\")\n",
        "  else:\n",
        "    print(f\"'{string}' does not match the pattern\")"
      ],
      "metadata": {
        "colab": {
          "base_uri": "https://localhost:8080/"
        },
        "id": "Nzzv8hwJIm5w",
        "outputId": "ce77af20-37f1-4982-9959-60d8a170be1a"
      },
      "execution_count": null,
      "outputs": [
        {
          "output_type": "stream",
          "name": "stdout",
          "text": [
            "'ab' does not match the pattern\n",
            "'abb' does not match the pattern\n",
            "'abbb' matches the pattern\n",
            "'abc' does not match the pattern\n",
            "'abba' does not match the pattern\n",
            "'abbbba' does not match the pattern\n"
          ]
        }
      ]
    },
    {
      "cell_type": "markdown",
      "source": [
        "Write a Python program to search for numbers (0-9) of length between 1 and 3 in a given string"
      ],
      "metadata": {
        "id": "tJqnFYfKlDaQ"
      }
    },
    {
      "cell_type": "code",
      "source": [
        "# prompt:\n",
        "\n",
        "import re\n",
        "def check_string(string):\n",
        "  pattern = re.compile('[0-9]{1,3}')\n",
        "  return pattern.findall(string)\n",
        "if __name__ == \"__main__\":\n",
        "  string = input(\"Enter a string: \")\n",
        "  numbers = check_string(string)\n",
        "  print(numbers)\n"
      ],
      "metadata": {
        "colab": {
          "base_uri": "https://localhost:8080/"
        },
        "id": "oR8QMnHtlFBQ",
        "outputId": "038d3135-db46-4fe5-f66b-280a6aae1a46"
      },
      "execution_count": null,
      "outputs": [
        {
          "output_type": "stream",
          "name": "stdout",
          "text": [
            "Enter a string: 44444444\n",
            "The string contains numbers (0-9) of length between 1 and 3.\n"
          ]
        }
      ]
    },
    {
      "cell_type": "markdown",
      "source": [
        "7.Write a Python program to search for literal strings within a string.\n",
        "Sample text : 'The quick brown fox jumps over the lazy dog.'\n",
        "Searched words : 'fox', 'dog', 'horse'"
      ],
      "metadata": {
        "id": "3JptuIHACI-0"
      }
    },
    {
      "cell_type": "code",
      "source": [
        "# prompt:\n",
        "\n",
        "import re\n",
        "text = 'The quick brown fox jumps over the lazy dog.'\n",
        "words = ['fox', 'dog', 'horse']\n",
        "for word in words:\n",
        "  if re.search(word, text):\n",
        "    print(word)\n"
      ],
      "metadata": {
        "colab": {
          "base_uri": "https://localhost:8080/"
        },
        "id": "N-A3CBVeCTE0",
        "outputId": "02dc2aa8-1758-4a21-c61d-0b2da5ed962f"
      },
      "execution_count": null,
      "outputs": [
        {
          "output_type": "stream",
          "name": "stdout",
          "text": [
            "fox\n",
            "dog\n"
          ]
        }
      ]
    },
    {
      "cell_type": "markdown",
      "source": [
        "8.Write a Python program to search for a literal string in a string and also find the location within the original string where the pattern occurs."
      ],
      "metadata": {
        "id": "6bn19H_sCltC"
      }
    },
    {
      "cell_type": "code",
      "source": [
        "# prompt:\n",
        "\n",
        "text = 'The quick brown fox jumps over the lazy dog.'\n",
        "word = 'fox'\n",
        "match = re.search(word, text)\n",
        "if match:\n",
        "  print(match.group())\n",
        "  print(match.start())\n",
        "  print(match.end())\n"
      ],
      "metadata": {
        "colab": {
          "base_uri": "https://localhost:8080/"
        },
        "id": "e_r7Dty6CqbB",
        "outputId": "e3e5b4b5-dc26-45fb-cf1c-6eb3bfb77938"
      },
      "execution_count": null,
      "outputs": [
        {
          "output_type": "stream",
          "name": "stdout",
          "text": [
            "fox\n",
            "16\n",
            "19\n"
          ]
        }
      ]
    },
    {
      "cell_type": "markdown",
      "source": [
        "9.Write a Python program to extract year, month and date from an URL"
      ],
      "metadata": {
        "id": "HnMEWpk0DIMS"
      }
    },
    {
      "cell_type": "code",
      "source": [
        "import re\n",
        "url1= \"https://www.washingtonpost.com/news/football-insider/wp/2016/09/02/odell-beckhams-fame-rests-on-one-stupid-little-ball-josh-norman\"\n",
        "p=re.compile('\\d{4}/\\d{2}/\\d{2}/')\n",
        "print(p.findall(url1))\n"
      ],
      "metadata": {
        "colab": {
          "base_uri": "https://localhost:8080/"
        },
        "id": "3XuumvjlDOya",
        "outputId": "5ab27302-671e-45cc-a768-9c865bfaea55"
      },
      "execution_count": null,
      "outputs": [
        {
          "output_type": "stream",
          "name": "stdout",
          "text": [
            "['2016/09/02/']\n"
          ]
        }
      ]
    },
    {
      "cell_type": "markdown",
      "source": [
        "10.Write a Python program to find URLs in a string."
      ],
      "metadata": {
        "id": "tldY4Rl3EJve"
      }
    },
    {
      "cell_type": "code",
      "source": [
        "# prompt:\n",
        "\n",
        "import re\n",
        "text = '<p>Contents :</p><a href=\"https://w3resource.com\">Python Examples</a><a href=\"http://github.com\">Even More Examples</a>'\n",
        "urls = re.findall('http[s]?://(?:[a-zA-Z]|[0-9]|[$-_@.&+]|[!*\\(\\),]|(?:%[0-9a-fA-F][0-9a-fA-F]))+', text)\n",
        "print(urls)\n"
      ],
      "metadata": {
        "colab": {
          "base_uri": "https://localhost:8080/"
        },
        "id": "8YHxI1iXEON5",
        "outputId": "43a8b54f-afd0-42c1-c224-2e57a028c3a3"
      },
      "execution_count": null,
      "outputs": [
        {
          "output_type": "stream",
          "name": "stdout",
          "text": [
            "['https://w3resource.com', 'http://github.com']\n"
          ]
        }
      ]
    },
    {
      "cell_type": "markdown",
      "source": [
        "11.Write a Python program to remove the parenthesis area in a string."
      ],
      "metadata": {
        "id": "LHpcW0a_ExOL"
      }
    },
    {
      "cell_type": "code",
      "source": [
        "# prompt:\n",
        "\n",
        "string = '\"example (.com)\", \"w3resource\", \"github (.com)\", \"stackoverflow (.com)\"'\n",
        "string = re.sub('\\\\([^)]+\\\\)', '', string)\n",
        "print(string)\n"
      ],
      "metadata": {
        "colab": {
          "base_uri": "https://localhost:8080/"
        },
        "id": "6Kh7gRJGE4E8",
        "outputId": "cbb7ca78-6117-4395-93e8-c8c22c948abc"
      },
      "execution_count": null,
      "outputs": [
        {
          "output_type": "stream",
          "name": "stdout",
          "text": [
            "\"example \", \"w3resource\", \"github \", \"stackoverflow \"\n"
          ]
        }
      ]
    }
  ]
}