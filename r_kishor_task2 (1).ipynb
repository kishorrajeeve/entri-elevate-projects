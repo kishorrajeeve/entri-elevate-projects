{
  "nbformat": 4,
  "nbformat_minor": 0,
  "metadata": {
    "colab": {
      "provenance": []
    },
    "kernelspec": {
      "name": "python3",
      "display_name": "Python 3"
    },
    "language_info": {
      "name": "python"
    }
  },
  "cells": [
    {
      "cell_type": "markdown",
      "source": [
        "Exercise 1: Create a function with a default argument Write a program to create a function show_employee() using the following conditions. It should accept the employee’s name and salary and display both. If the salary is missing in the function call then assign default value 9000 to salary\n",
        "\n",
        "Given:\n",
        "\n",
        "showEmployee(\"Ben\", 12000)\n",
        "\n",
        "showEmployee(\"Jessa\")\n",
        "\n",
        "Expected output:\n",
        "\n",
        "Name: Ben salary: 12000\n",
        "\n",
        "Name: Jessa salary: 9000"
      ],
      "metadata": {
        "id": "fN2rpzLFGhQ_"
      }
    },
    {
      "cell_type": "code",
      "source": [
        "def show_employee(name,salary=9000):\n",
        "  print(f\"Name:{name} salary:{salary}\")\n",
        "\n",
        "show_employee(\"Ben\", 12000)\n",
        "show_employee(\"Jessa\")\n"
      ],
      "metadata": {
        "colab": {
          "base_uri": "https://localhost:8080/"
        },
        "id": "j0BjawsMGlD5",
        "outputId": "2cf98975-6a70-4c5f-8978-45c07e79f53f"
      },
      "execution_count": null,
      "outputs": [
        {
          "output_type": "stream",
          "name": "stdout",
          "text": [
            "Name:Ben salary:12000\n",
            "Name:Jessa salary:9000\n"
          ]
        }
      ]
    },
    {
      "cell_type": "markdown",
      "source": [
        "Exercise 2:\n",
        "\n",
        "Create an inner function to calculate the addition in the following way Create an outer function that will accept two parameters, a and b Create an inner function inside an outer function that will calculate the addition of a and b At last, an outer function will add 5 into addition and return it"
      ],
      "metadata": {
        "id": "P6MYX05RIbpI"
      }
    },
    {
      "cell_type": "code",
      "source": [
        "def outer_function(a,b):\n",
        "  def inner_function(x,y):\n",
        "    return x+y\n",
        "\n",
        "  addition = inner_function(a,b)\n",
        "  final_result = addition+5\n",
        "  return final_result\n",
        "\n",
        "result = outer_function(2,2)\n",
        "print(\"Final result = \",result)"
      ],
      "metadata": {
        "colab": {
          "base_uri": "https://localhost:8080/"
        },
        "id": "Z7kQLF0HIhRT",
        "outputId": "db24bb57-37d5-458c-850b-ed70c61d6739"
      },
      "execution_count": null,
      "outputs": [
        {
          "output_type": "stream",
          "name": "stdout",
          "text": [
            "Final result =  9\n"
          ]
        }
      ]
    },
    {
      "cell_type": "markdown",
      "source": [
        "Exercise 3: Generate a Python list of all the even numbers between 4 to 30"
      ],
      "metadata": {
        "id": "NorRAexaMCUO"
      }
    },
    {
      "cell_type": "code",
      "source": [
        "even_numbers = [x for x in range(4,31) if x%2==0]\n",
        "print(even_numbers)"
      ],
      "metadata": {
        "colab": {
          "base_uri": "https://localhost:8080/"
        },
        "id": "rR2gwkFFMFpw",
        "outputId": "6caaa1cf-83db-45b9-fffd-0647f9b4599a"
      },
      "execution_count": null,
      "outputs": [
        {
          "output_type": "stream",
          "name": "stdout",
          "text": [
            "[4, 6, 8, 10, 12, 14, 16, 18, 20, 22, 24, 26, 28, 30]\n"
          ]
        }
      ]
    },
    {
      "cell_type": "markdown",
      "source": [
        "Exercise 4: Lambda Function to Check if value is in a List Given a list, the task is to write a Python program to check if the value exists in the list or not using the lambda function.\n",
        "\n",
        "Input : L = [1, 2, 3, 4, 5] element = 4 Output : Element is Present in the list\n",
        "\n",
        "Input : L = [1, 2, 3, 4, 5] element = 8 Output : Element is NOT Present in the lis"
      ],
      "metadata": {
        "id": "-fYxQrYTMdTV"
      }
    },
    {
      "cell_type": "code",
      "source": [
        "check_element = lambda L,element:\"Element is present in the list\" if list(filter(lambda x:x == element,L)) else \"Element is not present in the list\"\n",
        "\n",
        "L1 =  [4,5,6,8]\n",
        "element1 = 4\n",
        "output1 = check_element(L1,element1)\n",
        "print(output1)\n",
        "\n",
        "L2 =  [3, 2, 9, 6, 5]\n",
        "element2 = 8\n",
        "output2 = check_element(L2,element2)\n",
        "print(output2)"
      ],
      "metadata": {
        "colab": {
          "base_uri": "https://localhost:8080/"
        },
        "id": "dIiDd1LLMhLM",
        "outputId": "2165b55d-e48d-4994-82b2-1cb3cc66d4a6"
      },
      "execution_count": null,
      "outputs": [
        {
          "output_type": "stream",
          "name": "stdout",
          "text": [
            "Element is present in the list\n",
            "Element is not present in the list\n"
          ]
        }
      ]
    },
    {
      "cell_type": "markdown",
      "source": [
        "Exercise 5:\n",
        "\n",
        "Sort list of tuples with their sum Sort the points based on their sum of elements in the tuples\n",
        "\n",
        "points = [(1, 2), (5, 3), (0, 7), (3, 1)]"
      ],
      "metadata": {
        "id": "nxnXq426MkMN"
      }
    },
    {
      "cell_type": "code",
      "source": [
        "points = [(1, 2), (5, 3), (0, 7), (3, 1)]\n",
        "\n",
        "sorted_points = sorted(points, key=lambda x:x[0]+x[1])\n",
        "\n",
        "print(sorted_points)"
      ],
      "metadata": {
        "colab": {
          "base_uri": "https://localhost:8080/"
        },
        "id": "y-TpE1hKNPnf",
        "outputId": "71ea918f-9b7a-4847-bd3f-3c4df5decf04"
      },
      "execution_count": null,
      "outputs": [
        {
          "output_type": "stream",
          "name": "stdout",
          "text": [
            "[(1, 2), (3, 1), (0, 7), (5, 3)]\n"
          ]
        }
      ]
    },
    {
      "cell_type": "markdown",
      "source": [
        "Exercise 6 :\n",
        "\n",
        "Write a python function, which will find all such numbers between 1000 and 3000 (both included) such that each digit of the number is an even number. Return the results as a list"
      ],
      "metadata": {
        "id": "k0h67Ku1Nf_g"
      }
    },
    {
      "cell_type": "code",
      "source": [
        "def even(x,y):\n",
        "   result=[num for num in range(x,y+1) if all(int(digits)%2==0 for digits in str(num))]\n",
        "   return result\n",
        "\n",
        "result=even(1000,3000)\n",
        "print(result)"
      ],
      "metadata": {
        "colab": {
          "base_uri": "https://localhost:8080/"
        },
        "id": "xvnZZKUhNpxt",
        "outputId": "c286a197-8ecb-4681-af8a-f77503441f9b"
      },
      "execution_count": null,
      "outputs": [
        {
          "output_type": "stream",
          "name": "stdout",
          "text": [
            "[2000, 2002, 2004, 2006, 2008, 2020, 2022, 2024, 2026, 2028, 2040, 2042, 2044, 2046, 2048, 2060, 2062, 2064, 2066, 2068, 2080, 2082, 2084, 2086, 2088, 2200, 2202, 2204, 2206, 2208, 2220, 2222, 2224, 2226, 2228, 2240, 2242, 2244, 2246, 2248, 2260, 2262, 2264, 2266, 2268, 2280, 2282, 2284, 2286, 2288, 2400, 2402, 2404, 2406, 2408, 2420, 2422, 2424, 2426, 2428, 2440, 2442, 2444, 2446, 2448, 2460, 2462, 2464, 2466, 2468, 2480, 2482, 2484, 2486, 2488, 2600, 2602, 2604, 2606, 2608, 2620, 2622, 2624, 2626, 2628, 2640, 2642, 2644, 2646, 2648, 2660, 2662, 2664, 2666, 2668, 2680, 2682, 2684, 2686, 2688, 2800, 2802, 2804, 2806, 2808, 2820, 2822, 2824, 2826, 2828, 2840, 2842, 2844, 2846, 2848, 2860, 2862, 2864, 2866, 2868, 2880, 2882, 2884, 2886, 2888]\n"
          ]
        }
      ]
    },
    {
      "cell_type": "markdown",
      "source": [
        "Exercise 7 :\n",
        "\n",
        "Write a python function that accepts a sentence and calculate and return the number of letters and digits.\n",
        "\n",
        "Suppose the following input is supplied to the program:\n",
        "\n",
        "hello world! 123\n",
        "\n",
        "Then, the output should be:\n",
        "\n",
        "LETTERS 10 DIGITS 3"
      ],
      "metadata": {
        "id": "Ic6udyHZOYly"
      }
    },
    {
      "cell_type": "code",
      "source": [
        "def count_letter_and_digits(sentence):\n",
        "  letter_count = 0\n",
        "  digit_count = 0\n",
        "\n",
        "  for char in sentence:\n",
        "\n",
        "    if char.isalpha():\n",
        "      letter_count += 1\n",
        "    elif char.isdigit():\n",
        "      digit_count += 1\n",
        "\n",
        "  return letter_count, digit_count\n",
        "\n",
        "input_sentence = \"hello world! 123\"\n",
        "letter, digits = count_letter_and_digits(input_sentence)\n",
        "print(\"Letters: \",letter)\n",
        "print(\"Digits: \",digits)"
      ],
      "metadata": {
        "colab": {
          "base_uri": "https://localhost:8080/"
        },
        "id": "yB_l60zNOemk",
        "outputId": "4e4ff164-def1-4442-8161-445d40a4ec82"
      },
      "execution_count": null,
      "outputs": [
        {
          "output_type": "stream",
          "name": "stdout",
          "text": [
            "Letters:  10\n",
            "Digits:  3\n"
          ]
        }
      ]
    },
    {
      "cell_type": "markdown",
      "source": [
        "Exercise 8 MAP:\n",
        "\n",
        "Write a Python program to convert all the characters into uppercase and lowercase and eliminate duplicate letters from a given sequence. Use the map() function"
      ],
      "metadata": {
        "id": "z5pkZzzPO52n"
      }
    },
    {
      "cell_type": "code",
      "source": [
        "def upper_lower_duplicate(sequence):\n",
        "  upper_sequence = ''.join(map(str.upper,sequence))\n",
        "  lower_sequence = ''.join(map(str.lower,sequence))\n",
        "  duplicate = ''.join(set(sequence))\n",
        "\n",
        "  return upper_sequence,lower_sequence,duplicate\n",
        "\n",
        "sentence = \"hello world\"\n",
        "upper,lower,duplicate = upper_lower_duplicate(sentence)\n",
        "print(\"Uppercase: \",upper)\n",
        "print(\"Lowercase: \",lower)\n",
        "print(\"Duplicate: \",duplicate)"
      ],
      "metadata": {
        "colab": {
          "base_uri": "https://localhost:8080/"
        },
        "id": "ct0upRAbO9Cr",
        "outputId": "92b924ca-a578-4bfd-cabf-b4e8ae6ca21b"
      },
      "execution_count": null,
      "outputs": [
        {
          "output_type": "stream",
          "name": "stdout",
          "text": [
            "Uppercase:  HELLO WORLD\n",
            "Lowercase:  hello world\n",
            "Duplicate:  e dwrolh\n"
          ]
        }
      ]
    },
    {
      "cell_type": "markdown",
      "source": [
        "Exercise 9 MAP:\n",
        "\n",
        "Write a Python program to element wise add two given lists and find the difference between them. Use the map() function"
      ],
      "metadata": {
        "id": "GgMtEhFiQIib"
      }
    },
    {
      "cell_type": "code",
      "source": [
        "list1 = [1,2,3,4,5]\n",
        "list2 = [6,7,8,9,10]\n",
        "sum = map(lambda a,b : a+b, list1,list2)\n",
        "sub = map(lambda a,b : b-a, list1,list2)\n",
        "print(list(sum))\n",
        "print(list(sub))"
      ],
      "metadata": {
        "colab": {
          "base_uri": "https://localhost:8080/"
        },
        "id": "ZkJWfO37QMcL",
        "outputId": "b0fae258-8492-47c7-a0f5-8f7f0ac634bd"
      },
      "execution_count": null,
      "outputs": [
        {
          "output_type": "stream",
          "name": "stdout",
          "text": [
            "[7, 9, 11, 13, 15]\n",
            "[5, 5, 5, 5, 5]\n"
          ]
        }
      ]
    },
    {
      "cell_type": "markdown",
      "source": [
        "Exercise 10 Filter:\n",
        "\n",
        "Write a Python program to filter the height and weight of students, which are stored in a dictionary using lambda.\n",
        "\n",
        "Original Dictionary:\n",
        "\n",
        "{'Cierra Vega': (6.2, 71), 'Alden Cantrell': (5.9, 65), 'Kierra Gentry': (6.0, 68), 'Pierre Cox': (5.8, 66)}\n",
        "\n",
        "Height> 6ft and Weight> 70kg:\n",
        "\n",
        "{'Cierra Vega': (6.2, 71)}"
      ],
      "metadata": {
        "id": "85P7M6DoQW_b"
      }
    },
    {
      "cell_type": "code",
      "source": [
        "students = {'Cierra Vega': (6.2, 71), 'Alden Cantrell': (5.9, 65), 'Kierra Gentry': (6.0, 68), 'Pierre Cox': (5.8, 66)}\n",
        "filtered_students = dict(filter(lambda item : item[1][0]>6.0 and item[1][1]>70, students.items()))\n",
        "print(filtered_students)"
      ],
      "metadata": {
        "colab": {
          "base_uri": "https://localhost:8080/"
        },
        "id": "BVDidt70Qd-X",
        "outputId": "c4e04cdf-91f2-4cbc-9e4a-7f7f78b2a00b"
      },
      "execution_count": null,
      "outputs": [
        {
          "output_type": "stream",
          "name": "stdout",
          "text": [
            "{'Cierra Vega': (6.2, 71)}\n"
          ]
        }
      ]
    },
    {
      "cell_type": "markdown",
      "source": [
        "Exercise 11 Filter:\n",
        "\n",
        "Write a Python program to remove all elements from a given list present in another list using lambda.\n",
        "\n",
        "example:\n",
        "Original lists:\n",
        "\n",
        "list1: [1, 2, 3, 4, 5, 6, 7, 8, 9, 10]\n",
        "\n",
        "list2: [2, 4, 6, 8]\n",
        "\n",
        "Remove all elements from 'list1' present in 'list2:\n",
        "\n",
        "[1, 3, 5, 7, 9, 10]"
      ],
      "metadata": {
        "id": "uL2_7TyVQl0t"
      }
    },
    {
      "cell_type": "code",
      "source": [
        "l1=[55,14,2,65,4,1,5,41,25]\n",
        "l2=[5,6,47,8,23,61,55,25,4]\n",
        "\n",
        "new_list=list(filter(lambda a: a not in l2,l1))\n",
        "print(\"Original list=\",l1)\n",
        "print(\"Filtered list=\",new_list)"
      ],
      "metadata": {
        "colab": {
          "base_uri": "https://localhost:8080/"
        },
        "id": "Ymzqu1eHQotn",
        "outputId": "dec134a7-f9aa-4bf5-b613-b8e7d641b98f"
      },
      "execution_count": null,
      "outputs": [
        {
          "output_type": "stream",
          "name": "stdout",
          "text": [
            "Original list= [55, 14, 2, 65, 4, 1, 5, 41, 25]\n",
            "Filtered list= [14, 2, 65, 1, 41]\n"
          ]
        }
      ]
    },
    {
      "cell_type": "markdown",
      "source": [
        "Exercise 12 Reduce:\n",
        "\n",
        "Write a Python program to calculate the product of a given list of numbers using lambda.\n",
        "\n",
        "list1: [1, 2, 3, 4, 5, 6, 7, 8, 9, 10]\n",
        "\n",
        "Product of the said list numbers:\n",
        "\n",
        "3628800"
      ],
      "metadata": {
        "id": "qWJBt3PHQ5b5"
      }
    },
    {
      "cell_type": "code",
      "source": [
        "import functools\n",
        "list1 = [1, 2, 3, 4, 5, 6, 7, 8, 9, 10]\n",
        "result = functools.reduce(lambda x,y : x*y,list1)\n",
        "print(result)"
      ],
      "metadata": {
        "colab": {
          "base_uri": "https://localhost:8080/"
        },
        "id": "V0uIVIIpQ_7N",
        "outputId": "071b4c96-5599-44d3-af1b-130eec0a3def"
      },
      "execution_count": null,
      "outputs": [
        {
          "output_type": "stream",
          "name": "stdout",
          "text": [
            "3628800\n"
          ]
        }
      ]
    },
    {
      "cell_type": "markdown",
      "source": [
        "Exercise 13 Reduce:\n",
        "\n",
        "Write a Python program to multiply all the numbers in a given list using lambda."
      ],
      "metadata": {
        "id": "tAcRd003REaw"
      }
    },
    {
      "cell_type": "code",
      "source": [
        "import functools\n",
        "Original_list=[4, 6, 2, 2, 6, 9]\n",
        "\n",
        "product_list= functools.reduce( lambda x,y: x*y, Original_list)\n",
        "print(\"Product of numbers in the List=\", product_list)"
      ],
      "metadata": {
        "colab": {
          "base_uri": "https://localhost:8080/"
        },
        "id": "JxXVU0HmRJ7R",
        "outputId": "30602c1e-bfee-4311-9e84-73e695b5c1e6"
      },
      "execution_count": null,
      "outputs": [
        {
          "output_type": "stream",
          "name": "stdout",
          "text": [
            "Product of numbers in the List= 5184\n"
          ]
        }
      ]
    },
    {
      "cell_type": "markdown",
      "source": [
        "Exercise 14 Reduce:\n",
        "\n",
        "Write a Python program to calculate the average value of the numbers in a given tuple of tuples using lambda. Original Tuple: ((10, 10, 10), (30, 45, 56), (81, 80, 39), (1, 2, 3)) Average value of the numbers of the said tuple of tuples: (30.5, 34.25, 27.0)"
      ],
      "metadata": {
        "id": "up6fTq61RY-P"
      }
    },
    {
      "cell_type": "code",
      "source": [],
      "metadata": {
        "colab": {
          "base_uri": "https://localhost:8080/",
          "height": 331
        },
        "id": "g_U_eSCeaer8",
        "outputId": "08e6af32-4c6f-42bf-ad35-8f9b39668fd3"
      },
      "execution_count": null,
      "outputs": [
        {
          "output_type": "error",
          "ename": "TypeError",
          "evalue": "ignored",
          "traceback": [
            "\u001b[0;31m---------------------------------------------------------------------------\u001b[0m",
            "\u001b[0;31mTypeError\u001b[0m                                 Traceback (most recent call last)",
            "\u001b[0;32m<ipython-input-77-b64897d3bd8c>\u001b[0m in \u001b[0;36m<cell line: 3>\u001b[0;34m()\u001b[0m\n\u001b[1;32m      1\u001b[0m \u001b[0mx\u001b[0m\u001b[0;34m=\u001b[0m\u001b[0;34m(\u001b[0m\u001b[0;34m(\u001b[0m\u001b[0;36m10\u001b[0m\u001b[0;34m,\u001b[0m\u001b[0;36m10\u001b[0m\u001b[0;34m,\u001b[0m\u001b[0;36m10\u001b[0m\u001b[0;34m)\u001b[0m\u001b[0;34m,\u001b[0m\u001b[0;34m(\u001b[0m\u001b[0;36m30\u001b[0m\u001b[0;34m,\u001b[0m\u001b[0;36m45\u001b[0m\u001b[0;34m,\u001b[0m\u001b[0;36m56\u001b[0m\u001b[0;34m)\u001b[0m\u001b[0;34m,\u001b[0m\u001b[0;34m(\u001b[0m\u001b[0;36m81\u001b[0m\u001b[0;34m,\u001b[0m\u001b[0;36m80\u001b[0m\u001b[0;34m,\u001b[0m\u001b[0;36m39\u001b[0m\u001b[0;34m)\u001b[0m\u001b[0;34m,\u001b[0m\u001b[0;34m(\u001b[0m\u001b[0;36m1\u001b[0m\u001b[0;34m,\u001b[0m\u001b[0;36m2\u001b[0m\u001b[0;34m,\u001b[0m\u001b[0;36m3\u001b[0m\u001b[0;34m)\u001b[0m\u001b[0;34m)\u001b[0m\u001b[0;34m\u001b[0m\u001b[0;34m\u001b[0m\u001b[0m\n\u001b[1;32m      2\u001b[0m \u001b[0mx\u001b[0m\u001b[0;34m=\u001b[0m\u001b[0mlist\u001b[0m\u001b[0;34m(\u001b[0m\u001b[0mx\u001b[0m\u001b[0;34m)\u001b[0m\u001b[0;34m\u001b[0m\u001b[0;34m\u001b[0m\u001b[0m\n\u001b[0;32m----> 3\u001b[0;31m \u001b[0mf\u001b[0m\u001b[0;34m=\u001b[0m\u001b[0mtuple\u001b[0m\u001b[0;34m(\u001b[0m\u001b[0mmap\u001b[0m\u001b[0;34m(\u001b[0m\u001b[0;32mlambda\u001b[0m \u001b[0ma\u001b[0m\u001b[0;34m:\u001b[0m\u001b[0msum\u001b[0m\u001b[0;34m(\u001b[0m\u001b[0ma\u001b[0m\u001b[0;34m)\u001b[0m\u001b[0;34m/\u001b[0m\u001b[0mlen\u001b[0m\u001b[0;34m(\u001b[0m\u001b[0ma\u001b[0m\u001b[0;34m)\u001b[0m\u001b[0;34m,\u001b[0m\u001b[0mzip\u001b[0m\u001b[0;34m(\u001b[0m\u001b[0;34m*\u001b[0m\u001b[0mx\u001b[0m\u001b[0;34m)\u001b[0m\u001b[0;34m)\u001b[0m\u001b[0;34m)\u001b[0m\u001b[0;34m\u001b[0m\u001b[0;34m\u001b[0m\u001b[0m\n\u001b[0m\u001b[1;32m      4\u001b[0m \u001b[0mprint\u001b[0m\u001b[0;34m(\u001b[0m\u001b[0mf\u001b[0m\u001b[0;34m)\u001b[0m\u001b[0;34m\u001b[0m\u001b[0;34m\u001b[0m\u001b[0m\n",
            "\u001b[0;32m<ipython-input-77-b64897d3bd8c>\u001b[0m in \u001b[0;36m<lambda>\u001b[0;34m(a)\u001b[0m\n\u001b[1;32m      1\u001b[0m \u001b[0mx\u001b[0m\u001b[0;34m=\u001b[0m\u001b[0;34m(\u001b[0m\u001b[0;34m(\u001b[0m\u001b[0;36m10\u001b[0m\u001b[0;34m,\u001b[0m\u001b[0;36m10\u001b[0m\u001b[0;34m,\u001b[0m\u001b[0;36m10\u001b[0m\u001b[0;34m)\u001b[0m\u001b[0;34m,\u001b[0m\u001b[0;34m(\u001b[0m\u001b[0;36m30\u001b[0m\u001b[0;34m,\u001b[0m\u001b[0;36m45\u001b[0m\u001b[0;34m,\u001b[0m\u001b[0;36m56\u001b[0m\u001b[0;34m)\u001b[0m\u001b[0;34m,\u001b[0m\u001b[0;34m(\u001b[0m\u001b[0;36m81\u001b[0m\u001b[0;34m,\u001b[0m\u001b[0;36m80\u001b[0m\u001b[0;34m,\u001b[0m\u001b[0;36m39\u001b[0m\u001b[0;34m)\u001b[0m\u001b[0;34m,\u001b[0m\u001b[0;34m(\u001b[0m\u001b[0;36m1\u001b[0m\u001b[0;34m,\u001b[0m\u001b[0;36m2\u001b[0m\u001b[0;34m,\u001b[0m\u001b[0;36m3\u001b[0m\u001b[0;34m)\u001b[0m\u001b[0;34m)\u001b[0m\u001b[0;34m\u001b[0m\u001b[0;34m\u001b[0m\u001b[0m\n\u001b[1;32m      2\u001b[0m \u001b[0mx\u001b[0m\u001b[0;34m=\u001b[0m\u001b[0mlist\u001b[0m\u001b[0;34m(\u001b[0m\u001b[0mx\u001b[0m\u001b[0;34m)\u001b[0m\u001b[0;34m\u001b[0m\u001b[0;34m\u001b[0m\u001b[0m\n\u001b[0;32m----> 3\u001b[0;31m \u001b[0mf\u001b[0m\u001b[0;34m=\u001b[0m\u001b[0mtuple\u001b[0m\u001b[0;34m(\u001b[0m\u001b[0mmap\u001b[0m\u001b[0;34m(\u001b[0m\u001b[0;32mlambda\u001b[0m \u001b[0ma\u001b[0m\u001b[0;34m:\u001b[0m\u001b[0msum\u001b[0m\u001b[0;34m(\u001b[0m\u001b[0ma\u001b[0m\u001b[0;34m)\u001b[0m\u001b[0;34m/\u001b[0m\u001b[0mlen\u001b[0m\u001b[0;34m(\u001b[0m\u001b[0ma\u001b[0m\u001b[0;34m)\u001b[0m\u001b[0;34m,\u001b[0m\u001b[0mzip\u001b[0m\u001b[0;34m(\u001b[0m\u001b[0;34m*\u001b[0m\u001b[0mx\u001b[0m\u001b[0;34m)\u001b[0m\u001b[0;34m)\u001b[0m\u001b[0;34m)\u001b[0m\u001b[0;34m\u001b[0m\u001b[0;34m\u001b[0m\u001b[0m\n\u001b[0m\u001b[1;32m      4\u001b[0m \u001b[0mprint\u001b[0m\u001b[0;34m(\u001b[0m\u001b[0mf\u001b[0m\u001b[0;34m)\u001b[0m\u001b[0;34m\u001b[0m\u001b[0;34m\u001b[0m\u001b[0m\n",
            "\u001b[0;31mTypeError\u001b[0m: 'map' object is not callable"
          ]
        }
      ]
    },
    {
      "cell_type": "markdown",
      "source": [
        "Exercise 15:\n",
        "\n",
        "Write a Python program to sort a given mixed list of integers and strings using lambda. Numbers must be sorted before strings.\n",
        "\n",
        "Original list:\n",
        "\n",
        "[19, 'red', 12, 'green', 'blue', 10, 'white', 'green', 1]\n",
        "\n",
        "Sort the said mixed list of integers and strings:\n",
        "\n",
        "[1, 10, 12, 19, 'blue', 'green', 'green', 'red', 'white']"
      ],
      "metadata": {
        "id": "aBdoFBeVUUF0"
      }
    },
    {
      "cell_type": "code",
      "source": [
        "original_list = [19, 'red', 12, 'green', 'blue', 10, 'white', 'green', 1]\n",
        "\n",
        "sorted_list = sorted(original_list, key = lambda x: (isinstance(x, int), x))\n",
        "\n",
        "print(sorted_list)"
      ],
      "metadata": {
        "colab": {
          "base_uri": "https://localhost:8080/"
        },
        "id": "1Arf-dWHUYv9",
        "outputId": "938d3cf7-a3bc-44a8-fc60-bf29042d51f5"
      },
      "execution_count": null,
      "outputs": [
        {
          "output_type": "stream",
          "name": "stdout",
          "text": [
            "['blue', 'green', 'green', 'red', 'white', 1, 10, 12, 19]\n"
          ]
        }
      ]
    },
    {
      "cell_type": "markdown",
      "source": [
        "Exercise 16:\n",
        "\n",
        "Write a Python program to count the occurrences of items in a given list using lambda.\n",
        "\n",
        "Original list:\n",
        "\n",
        "[3, 4, 5, 8, 0, 3, 8, 5, 0, 3, 1, 5, 2, 3, 4, 2]\n",
        "\n",
        "Count the occurrences of the items in the said list:\n",
        "\n",
        "{3: 4, 4: 2, 5: 3, 8: 2, 0: 2, 1: 1, 2: 2}"
      ],
      "metadata": {
        "id": "pIK3AUGHUdbI"
      }
    },
    {
      "cell_type": "code",
      "source": [
        "original_list = [3, 4, 5, 8, 0, 3, 8, 5, 0, 3, 1, 5, 2, 3, 4, 2]\n",
        "\n",
        "occurrence_list = dict(map(lambda x : (x, original_list.count(x)),original_list))\n",
        "\n",
        "print(occurrence_list)"
      ],
      "metadata": {
        "colab": {
          "base_uri": "https://localhost:8080/"
        },
        "id": "tM57ZkkQUisZ",
        "outputId": "d1e841e3-b1b1-4722-d446-f688b075c8dc"
      },
      "execution_count": null,
      "outputs": [
        {
          "output_type": "stream",
          "name": "stdout",
          "text": [
            "{3: 4, 4: 2, 5: 3, 8: 2, 0: 2, 1: 1, 2: 2}\n"
          ]
        }
      ]
    },
    {
      "cell_type": "markdown",
      "source": [
        "Exercise 17:\n",
        "\n",
        "Write a Python program to remove None values from a given list using the lambda function. Original list: [12, 0, None, 23, None, -55, 234, 89, None, 0, 6, -12] Remove None value from the said list: [12, 0, 23, -55, 234, 89, 0, 6, -12]"
      ],
      "metadata": {
        "id": "hJm0QbasUn90"
      }
    },
    {
      "cell_type": "code",
      "source": [
        "original_list = [12, 0, None, 23, None, -55, 234, 89, None, 0, 6, -12]\n",
        "\n",
        "filtered_list = list(filter((lambda x: x is not None),original_list))\n",
        "\n",
        "print(filtered_list)"
      ],
      "metadata": {
        "colab": {
          "base_uri": "https://localhost:8080/"
        },
        "id": "TFbA9z2KUuSW",
        "outputId": "3864e79a-05e8-426c-b181-04643eca2d73"
      },
      "execution_count": null,
      "outputs": [
        {
          "output_type": "stream",
          "name": "stdout",
          "text": [
            "[12, 0, 23, -55, 234, 89, 0, 6, -12]\n"
          ]
        }
      ]
    }
  ]
}