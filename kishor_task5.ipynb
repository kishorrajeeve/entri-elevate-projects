{
  "nbformat": 4,
  "nbformat_minor": 0,
  "metadata": {
    "colab": {
      "provenance": [],
      "authorship_tag": "ABX9TyP6hgmdEqwBjADfVT9u5RvC",
      "include_colab_link": true
    },
    "kernelspec": {
      "name": "python3",
      "display_name": "Python 3"
    },
    "language_info": {
      "name": "python"
    }
  },
  "cells": [
    {
      "cell_type": "markdown",
      "metadata": {
        "id": "view-in-github",
        "colab_type": "text"
      },
      "source": [
        "<a href=\"https://colab.research.google.com/github/kishorrajeeve/entri-elevate-projects/blob/main/kishor_task5.ipynb\" target=\"_parent\"><img src=\"https://colab.research.google.com/assets/colab-badge.svg\" alt=\"Open In Colab\"/></a>"
      ]
    },
    {
      "cell_type": "markdown",
      "source": [
        "1. How to extract all odd numbers from array?"
      ],
      "metadata": {
        "id": "zgFNqGrDd99r"
      }
    },
    {
      "cell_type": "code",
      "execution_count": null,
      "metadata": {
        "colab": {
          "base_uri": "https://localhost:8080/"
        },
        "id": "0kvgTn4cd0pw",
        "outputId": "49022f01-b0b0-43e9-f5c3-41f0bf32aae8"
      },
      "outputs": [
        {
          "output_type": "stream",
          "name": "stdout",
          "text": [
            "[1 3 5 7 9]\n"
          ]
        }
      ],
      "source": [
        "import numpy as np\n",
        "arr = np.array([0, 1, 2, 3, 4, 5, 6, 7, 8, 9])\n",
        "odd_numbers = arr[arr % 2 == 1]\n",
        "print(odd_numbers)\n"
      ]
    },
    {
      "cell_type": "markdown",
      "source": [
        "2. Replace all odd numbers in arr with -1 without changing"
      ],
      "metadata": {
        "id": "aWlpV29NfZnm"
      }
    },
    {
      "cell_type": "code",
      "source": [
        "arr = np.array([0, 1, 2, 3, 4, 5, 6, 7, 8, 9])\n",
        "arr[arr % 2 == 1] =-1\n",
        "print(arr)\n"
      ],
      "metadata": {
        "colab": {
          "base_uri": "https://localhost:8080/"
        },
        "id": "HMHZwfS5fc-F",
        "outputId": "e7778714-e107-4309-d154-6f7e5c3ceb1b"
      },
      "execution_count": null,
      "outputs": [
        {
          "output_type": "stream",
          "name": "stdout",
          "text": [
            "[ 0 -1  2 -1  4 -1  6 -1  8 -1]\n"
          ]
        }
      ]
    },
    {
      "cell_type": "markdown",
      "source": [
        "3. Convert a 1D array to a 2D array with 2 rows"
      ],
      "metadata": {
        "id": "CUZOuOu4cxcd"
      }
    },
    {
      "cell_type": "code",
      "source": [
        "import numpy as np\n",
        "arr = np.array([0, 1, 2, 3, 4, 5, 6, 7, 8, 9])\n",
        "arr_2d = arr.reshape(2, -1)\n",
        "print(arr_2d)\n"
      ],
      "metadata": {
        "colab": {
          "base_uri": "https://localhost:8080/"
        },
        "id": "04oK0ASAczB7",
        "outputId": "6f580787-ea88-4480-81f9-ed55d4bfa2f4"
      },
      "execution_count": null,
      "outputs": [
        {
          "output_type": "stream",
          "name": "stdout",
          "text": [
            "[[0 1 2 3 4]\n",
            " [5 6 7 8 9]]\n"
          ]
        }
      ]
    },
    {
      "cell_type": "markdown",
      "source": [
        "\n",
        "4. Stack arrays a and b vertically\n",
        "\n",
        "\n",
        "\n"
      ],
      "metadata": {
        "id": "8SGuAlftdkoT"
      }
    },
    {
      "cell_type": "code",
      "source": [
        "import numpy as np\n",
        "a = np.array([0, 1, 2])\n",
        "b = np.array([3, 4, 5])\n",
        "stacked_arrays = np.vstack((a, b))\n",
        "print(stacked_arrays)\n"
      ],
      "metadata": {
        "colab": {
          "base_uri": "https://localhost:8080/"
        },
        "id": "ihr4uSvJdsBh",
        "outputId": "08ed2d62-94c5-478f-c9ad-986b862217bf"
      },
      "execution_count": null,
      "outputs": [
        {
          "output_type": "stream",
          "name": "stdout",
          "text": [
            "[[0 1 2]\n",
            " [3 4 5]]\n"
          ]
        }
      ]
    },
    {
      "cell_type": "code",
      "source": [
        "import numpy as np\n",
        "a = np.arange(10).reshape(2,-1)\n",
        "b = np.repeat(1, 10).reshape(2,-1)\n",
        "stacked_arrays = np.vstack((a, b))\n",
        "print(stacked_arrays)"
      ],
      "metadata": {
        "colab": {
          "base_uri": "https://localhost:8080/"
        },
        "id": "iVd7hqutjaEW",
        "outputId": "b434b93e-5d8b-477b-e59a-ce80be55ae5f"
      },
      "execution_count": null,
      "outputs": [
        {
          "output_type": "stream",
          "name": "stdout",
          "text": [
            "[[0 1 2 3 4]\n",
            " [5 6 7 8 9]\n",
            " [1 1 1 1 1]\n",
            " [1 1 1 1 1]]\n"
          ]
        }
      ]
    },
    {
      "cell_type": "markdown",
      "source": [],
      "metadata": {
        "id": "AEh--afujv7x"
      }
    },
    {
      "cell_type": "markdown",
      "source": [
        "4. Stack arrays a and b vertically"
      ],
      "metadata": {
        "id": "dKBJmltWeCxc"
      }
    },
    {
      "cell_type": "code",
      "source": [
        "a = np.array([0, 1, 2])\n",
        "b = np.array([3, 4, 5])\n",
        "stacked_arrays = np.hstack((a, b))\n",
        "print(stacked_arrays)\n"
      ],
      "metadata": {
        "colab": {
          "base_uri": "https://localhost:8080/"
        },
        "id": "17a9MdbyeIwc",
        "outputId": "2261eab6-f423-4d65-f27c-22754609a65a"
      },
      "execution_count": null,
      "outputs": [
        {
          "output_type": "stream",
          "name": "stdout",
          "text": [
            "[0 1 2 3 4 5]\n"
          ]
        }
      ]
    },
    {
      "cell_type": "code",
      "source": [
        "import numpy as np\n",
        "a = np.arange(10).reshape(2,-1)\n",
        "b = np.repeat(1, 10).reshape(2,-1)\n",
        "stacked_arrays = np.hstack((a, b))\n",
        "print(stacked_arrays)"
      ],
      "metadata": {
        "colab": {
          "base_uri": "https://localhost:8080/"
        },
        "id": "izFWRBCwhG5C",
        "outputId": "bc6dbbe5-c2c5-4820-eacf-8385adfabc9f"
      },
      "execution_count": null,
      "outputs": [
        {
          "output_type": "stream",
          "name": "stdout",
          "text": [
            "[[0 1 2 3 4 1 1 1 1 1]\n",
            " [5 6 7 8 9 1 1 1 1 1]]\n"
          ]
        }
      ]
    },
    {
      "cell_type": "markdown",
      "source": [
        "6.How to get the common items between two python numpy arrays?\n",
        "Get the common items between a and b"
      ],
      "metadata": {
        "id": "DTk1SgkSj6Bf"
      }
    },
    {
      "cell_type": "code",
      "source": [
        "a = np.array([1,2,3,4,5])\n",
        "b = np.array([3,4,5,6,7])\n",
        "common_items = np.intersect1d(a,b)\n",
        "print(common_items)\n"
      ],
      "metadata": {
        "colab": {
          "base_uri": "https://localhost:8080/"
        },
        "id": "SRg-nQ8FkEoj",
        "outputId": "ff1fb446-0ac8-488b-b2e5-281d9c2ed6f0"
      },
      "execution_count": null,
      "outputs": [
        {
          "output_type": "stream",
          "name": "stdout",
          "text": [
            "[3 4 5]\n"
          ]
        }
      ]
    },
    {
      "cell_type": "markdown",
      "source": [
        "7.How to remove from one array those items that exist in another?\n",
        "Q. From array a remove all items present in array b"
      ],
      "metadata": {
        "id": "M4olJdS8kLAe"
      }
    },
    {
      "cell_type": "code",
      "source": [
        "a = np.array([1,2,3,4,5])\n",
        "b = np.array([3,4,5,6,7])\n",
        "not_common_items = np.setdiff1d(a,b)\n",
        "print(not_common_items)\n"
      ],
      "metadata": {
        "colab": {
          "base_uri": "https://localhost:8080/"
        },
        "id": "Ckr0GJ15kSU9",
        "outputId": "e0880c2e-ba80-4aff-e391-053499349f84"
      },
      "execution_count": null,
      "outputs": [
        {
          "output_type": "stream",
          "name": "stdout",
          "text": [
            "[1 2]\n"
          ]
        }
      ]
    },
    {
      "cell_type": "markdown",
      "source": [
        "8. How to get the positions where elements of two arrays match?\n",
        "Q. Get the positions where elements of a and b match"
      ],
      "metadata": {
        "id": "uEtPIb8LkxyT"
      }
    },
    {
      "cell_type": "code",
      "source": [
        "import numpy as np\n",
        "a = np.array([1,2,3,2,3,4,3,4,5,6])\n",
        "b = np.array([7,2,10,2,7,4,9,4,9,8])\n",
        "result = np.where(a==b)\n",
        "print(result)\n"
      ],
      "metadata": {
        "colab": {
          "base_uri": "https://localhost:8080/"
        },
        "id": "5B5KzLzhqh7a",
        "outputId": "3ba45471-7370-4d59-eee6-0026862d78ee"
      },
      "execution_count": null,
      "outputs": [
        {
          "output_type": "stream",
          "name": "stdout",
          "text": [
            "(array([1, 3, 5, 7]),)\n"
          ]
        }
      ]
    },
    {
      "cell_type": "markdown",
      "source": [
        "9. How to extract all numbers between a given range from a numpy array?\n",
        "Get all items between 5 and 10 from a"
      ],
      "metadata": {
        "id": "ktECnq9axaBB"
      }
    },
    {
      "cell_type": "code",
      "source": [
        "\n",
        "import numpy as np\n",
        "\n",
        "a = np.array([2, 6, 1, 9, 10, 3, 27])\n",
        "result = a[(a >= 5) & (a <= 10)]\n",
        "print(result)\n"
      ],
      "metadata": {
        "colab": {
          "base_uri": "https://localhost:8080/"
        },
        "id": "3npe2k0ExyCC",
        "outputId": "84d1faad-3d5d-48f7-a57d-a703355379ab"
      },
      "execution_count": null,
      "outputs": [
        {
          "output_type": "stream",
          "name": "stdout",
          "text": [
            "[ 6  9 10]\n"
          ]
        }
      ]
    },
    {
      "cell_type": "markdown",
      "source": [
        "Pandas"
      ],
      "metadata": {
        "id": "Fy-ddXgj6Eio"
      }
    },
    {
      "cell_type": "markdown",
      "source": [
        "Pandas Data Series"
      ],
      "metadata": {
        "id": "IQCsX9uF71Yt"
      }
    },
    {
      "cell_type": "markdown",
      "source": [
        "1. Write a Pandas program to convert a dictionary to a Pandas series."
      ],
      "metadata": {
        "id": "AYjd0kNZ76j8"
      }
    },
    {
      "cell_type": "code",
      "source": [
        "import pandas as pd\n",
        "Original_dictionary = {'a': 100, 'b': 200, 'c': 300, 'd': 400, 'e': 800}\n",
        "converted = pd.Series(Original_dictionary)\n",
        "print(\"new Series\")\n",
        "print(converted)\n"
      ],
      "metadata": {
        "colab": {
          "base_uri": "https://localhost:8080/"
        },
        "id": "Cs_4OA2R8Ba_",
        "outputId": "3db3e006-8c52-4945-db95-bcd19f91d959"
      },
      "execution_count": null,
      "outputs": [
        {
          "output_type": "stream",
          "name": "stdout",
          "text": [
            "new Series\n",
            "a    100\n",
            "b    200\n",
            "c    300\n",
            "d    400\n",
            "e    800\n",
            "dtype: int64\n"
          ]
        }
      ]
    },
    {
      "cell_type": "markdown",
      "source": [
        "2. Write a Pandas program to convert a NumPy array to a Pandas series."
      ],
      "metadata": {
        "id": "qSIyCy-c8Rcz"
      }
    },
    {
      "cell_type": "code",
      "source": [
        "import pandas as pd\n",
        "import numpy as np\n",
        "numpy_array = np.array([12,52,85,90])\n",
        "converted = pd.Series(numpy_array)\n",
        "print(\"Converted pandas series\")\n",
        "print(converted)"
      ],
      "metadata": {
        "colab": {
          "base_uri": "https://localhost:8080/"
        },
        "id": "g95yXUIX8nFQ",
        "outputId": "ae374534-ffbc-4bb4-b14b-2881af66ab3b"
      },
      "execution_count": null,
      "outputs": [
        {
          "output_type": "stream",
          "name": "stdout",
          "text": [
            "Converted pandas series\n",
            "0    10\n",
            "1    20\n",
            "2    30\n",
            "3    40\n",
            "4    50\n",
            "dtype: int64\n"
          ]
        }
      ]
    },
    {
      "cell_type": "markdown",
      "source": [
        "3. Write a Pandas program to change the data type of given a column or a Series."
      ],
      "metadata": {
        "id": "Z8fYsenX87Sp"
      }
    },
    {
      "cell_type": "code",
      "source": [
        "\n",
        "import pandas as pd\n",
        "original_series = pd.Series(['100', '200', 'python', '300.12', '400'])\n",
        "converted = pd.to_numeric(original_series, errors='coerce')\n",
        "print(original_series)\n",
        "print(\"Changed the said datatype to numeric:\")\n",
        "print(converted)"
      ],
      "metadata": {
        "colab": {
          "base_uri": "https://localhost:8080/"
        },
        "id": "j3OH52_x9FAc",
        "outputId": "0279d6d6-d5a8-4193-eaf5-8c50344c01f0"
      },
      "execution_count": null,
      "outputs": [
        {
          "output_type": "stream",
          "name": "stdout",
          "text": [
            "0       100\n",
            "1       200\n",
            "2    python\n",
            "3    300.12\n",
            "4       400\n",
            "dtype: object\n",
            "Changed the said datatype to numeric:\n",
            "0    100.00\n",
            "1    200.00\n",
            "2       NaN\n",
            "3    300.12\n",
            "4    400.00\n",
            "dtype: float64\n"
          ]
        }
      ]
    },
    {
      "cell_type": "markdown",
      "source": [
        "4. Write a Pandas program to convert the first column of a DataFrame as a Series."
      ],
      "metadata": {
        "id": "shrLesQM912N"
      }
    },
    {
      "cell_type": "code",
      "source": [
        "import pandas as pd\n",
        "\n",
        "d = {'col1': [1, 2, 3, 4, 7, 11], 'col2': [4, 5, 6, 9, 5, 0], 'col3': [7, 5, 8, 12, 1, 11]}\n",
        "df = pd.DataFrame(data=d)\n",
        "\n",
        "print(\"Original DataFrame\")\n",
        "print(df)\n",
        "s1 = df.iloc[:, 0]\n",
        "print(\"\\n1st column as a Series:\")\n",
        "print(s1)\n",
        "print(type(s1))\n"
      ],
      "metadata": {
        "colab": {
          "base_uri": "https://localhost:8080/"
        },
        "id": "AR-2VFsf98DO",
        "outputId": "12f43202-e55e-44de-a3ae-473c502d0adf"
      },
      "execution_count": null,
      "outputs": [
        {
          "output_type": "stream",
          "name": "stdout",
          "text": [
            "Original Series\n",
            "0       100\n",
            "1       200\n",
            "2    python\n",
            "3    300.12\n",
            "4       400\n",
            "dtype: object\n",
            "Series of array\n",
            "['100' '200' 'python' '300.12' '400']\n",
            "<class 'numpy.ndarray'>\n"
          ]
        }
      ]
    },
    {
      "cell_type": "markdown",
      "source": [
        "5. Write a Pandas program to convert a given Series to an array."
      ],
      "metadata": {
        "id": "eTQqNFIU-Ykc"
      }
    },
    {
      "cell_type": "code",
      "source": [
        "import pandas as pd\n",
        "original_series = pd.Series(['100', '200', 'python', '300.12', '400'])\n",
        "print(\"Original Series\")\n",
        "print(original_series)\n",
        "array_series = original_series.to_numpy()\n",
        "print(\"Series of array\")\n",
        "print(array_series)\n",
        "print(type(array_series))"
      ],
      "metadata": {
        "colab": {
          "base_uri": "https://localhost:8080/"
        },
        "id": "jQPisagd-lqo",
        "outputId": "44181c45-80f3-4d58-ab30-1b845a533001"
      },
      "execution_count": null,
      "outputs": [
        {
          "output_type": "stream",
          "name": "stdout",
          "text": [
            "Original Series\n",
            "0       100\n",
            "1       200\n",
            "2    python\n",
            "3    300.12\n",
            "4       400\n",
            "dtype: object\n",
            "Series of array\n",
            "['100' '200' 'python' '300.12' '400']\n",
            "<class 'numpy.ndarray'>\n"
          ]
        }
      ]
    },
    {
      "cell_type": "markdown",
      "source": [
        "6 Write a Pandas program to convert Series of lists to one Series."
      ],
      "metadata": {
        "id": "ic7zv823A2OX"
      }
    },
    {
      "cell_type": "code",
      "source": [
        "import pandas as pd\n",
        "original_series = pd.Series([['Red', 'Green', 'White'], ['Red', 'Black'], ['Yellow']])\n",
        "print(\"Original Series\")\n",
        "print(original_series)\n",
        "one_series = original_series.explode()\n",
        "one_series = one_series.reset_index(drop = True)\n",
        "print(\"One Series\")\n",
        "print(one_series)"
      ],
      "metadata": {
        "colab": {
          "base_uri": "https://localhost:8080/"
        },
        "id": "OvNMoECKA8mk",
        "outputId": "d38bba9a-661d-406a-a9e6-8ce44b6b9c58"
      },
      "execution_count": null,
      "outputs": [
        {
          "output_type": "stream",
          "name": "stdout",
          "text": [
            "Original Series\n",
            "0    [Red, Green, White]\n",
            "1           [Red, Black]\n",
            "2               [Yellow]\n",
            "dtype: object\n",
            "One Series\n",
            "0       Red\n",
            "1     Green\n",
            "2     White\n",
            "3       Red\n",
            "4     Black\n",
            "5    Yellow\n",
            "dtype: object\n"
          ]
        }
      ]
    },
    {
      "cell_type": "markdown",
      "source": [
        "7.Write a Pandas program to sort a given Series."
      ],
      "metadata": {
        "id": "-N084O9PBPBf"
      }
    },
    {
      "cell_type": "code",
      "source": [
        "import pandas as pd\n",
        "original_series = pd.Series(['100', '200', 'python', '300.12', '400'])\n",
        "print(\"Original Series\")\n",
        "print(original_series)\n",
        "sorted_series = original_series.sort_values()\n",
        "print(\"Sorted Values\")\n",
        "print(sorted_series)"
      ],
      "metadata": {
        "colab": {
          "base_uri": "https://localhost:8080/"
        },
        "id": "oc1umFTUBWyc",
        "outputId": "5080aa2f-f24f-4786-92e2-76b6f429c3ed"
      },
      "execution_count": null,
      "outputs": [
        {
          "output_type": "stream",
          "name": "stdout",
          "text": [
            "Original Series\n",
            "0       100\n",
            "1       200\n",
            "2    python\n",
            "3    300.12\n",
            "4       400\n",
            "dtype: object\n",
            "Sorted Values\n",
            "0       100\n",
            "1       200\n",
            "3    300.12\n",
            "4       400\n",
            "2    python\n",
            "dtype: object\n"
          ]
        }
      ]
    },
    {
      "cell_type": "markdown",
      "source": [
        "Pandas DataFrame"
      ],
      "metadata": {
        "id": "jAQw4b8mBo8e"
      }
    },
    {
      "cell_type": "markdown",
      "source": [
        "1.Write a Pandas program to create a dataframe from a dictionary and display it."
      ],
      "metadata": {
        "id": "svcRmVBnCHNi"
      }
    },
    {
      "cell_type": "code",
      "source": [
        "import pandas as pd\n",
        "Sample_data = {'X':[78,85,96,80,86], 'Y':[84,94,89,83,86],'Z':[86,97,96,72,83]}\n",
        "df = pd.DataFrame(Sample_data)\n",
        "print(\"Expected Output\")\n",
        "print(df)"
      ],
      "metadata": {
        "colab": {
          "base_uri": "https://localhost:8080/"
        },
        "id": "lXnPHxXwCMl7",
        "outputId": "e9f6d211-bf06-483e-bfce-d99c2aff0f68"
      },
      "execution_count": null,
      "outputs": [
        {
          "output_type": "stream",
          "name": "stdout",
          "text": [
            "Expected Output\n",
            "    X   Y   Z\n",
            "0  78  84  86\n",
            "1  85  94  97\n",
            "2  96  89  96\n",
            "3  80  83  72\n",
            "4  86  86  83\n"
          ]
        }
      ]
    },
    {
      "cell_type": "markdown",
      "source": [
        "2. Write a Pandas program to create and display a DataFrame from a specified dictionary data which has the index labels."
      ],
      "metadata": {
        "id": "wBw3e9qeCVOO"
      }
    },
    {
      "cell_type": "code",
      "source": [
        "import pandas as pd\n",
        "import numpy as np\n",
        "exam_data = {\n",
        "    'name': ['Anastasia', 'Dima', 'Katherine', 'James', 'Emily', 'Michael', 'Matthew', 'Laura', 'Kevin', 'Jonas'],\n",
        "    'score': [12.5, 9, 16.5, np.nan, 9, 20, 14.5, np.nan, 8, 19],\n",
        "    'attempts': [1, 3, 2, 3, 2, 3, 1, 1, 2, 1],\n",
        "    'qualify': ['yes', 'no', 'yes', 'no', 'no', 'yes', 'yes', 'no', 'no', 'yes']\n",
        "    }\n",
        "labels = ['a', 'b', 'c', 'd', 'e', 'f', 'g', 'h', 'i', 'j']\n",
        "df = pd.DataFrame(exam_data, index = labels)\n",
        "print(\"Expected Output\")\n",
        "print(df)"
      ],
      "metadata": {
        "colab": {
          "base_uri": "https://localhost:8080/"
        },
        "id": "_LQU26X6Ca5P",
        "outputId": "ca01268c-257d-4512-f1a0-4af03deb31e6"
      },
      "execution_count": null,
      "outputs": [
        {
          "output_type": "stream",
          "name": "stdout",
          "text": [
            "Expected Output\n",
            "        name  score  attempts qualify\n",
            "a  Anastasia   12.5         1     yes\n",
            "b       Dima    9.0         3      no\n",
            "c  Katherine   16.5         2     yes\n",
            "d      James    NaN         3      no\n",
            "e      Emily    9.0         2      no\n",
            "f    Michael   20.0         3     yes\n",
            "g    Matthew   14.5         1     yes\n",
            "h      Laura    NaN         1      no\n",
            "i      Kevin    8.0         2      no\n",
            "j      Jonas   19.0         1     yes\n"
          ]
        }
      ]
    },
    {
      "cell_type": "markdown",
      "source": [
        "##3. Write a Pandas program to get the first 3 rows of a given DataFrame.\n",
        "```\n",
        "Sample Python dictionary data and list labels:\n",
        "exam_data = {'name': ['Anastasia', 'Dima', 'Katherine', 'James', 'Emily', 'Michael', 'Matthew', 'Laura', 'Kevin', 'Jonas'],\n",
        "'score': [12.5, 9, 16.5, np.nan, 9, 20, 14.5, np.nan, 8, 19],\n",
        "'attempts': [1, 3, 2, 3, 2, 3, 1, 1, 2, 1],\n",
        "'qualify': ['yes', 'no', 'yes', 'no', 'no', 'yes', 'yes', 'no', 'no', 'yes']}\n",
        "labels = ['a', 'b', 'c', 'd', 'e', 'f', 'g', 'h', 'i', 'j']\n",
        "```\n",
        "\n",
        "```\n",
        "Expected Output:\n",
        "First three rows of the data frame:                                   \n",
        "   attempts       name qualify  score                              \n",
        "a         1  Anastasia     yes   12.5                                 \n",
        "b         3       Dima      no    9.0                                 \n",
        "c         2  Katherine     yes   16.5\n"
      ],
      "metadata": {
        "id": "lnyGS2wMrfgu"
      }
    },
    {
      "cell_type": "code",
      "source": [
        "import pandas as pd\n",
        "import numpy as np\n",
        "exam_data = {\n",
        "    'name': ['Anastasia', 'Dima', 'Katherine', 'James', 'Emily', 'Michael', 'Matthew', 'Laura', 'Kevin', 'Jonas'],\n",
        "    'score': [12.5, 9, 16.5, np.nan, 9, 20, 14.5, np.nan, 8, 19],\n",
        "    'attempts': [1, 3, 2, 3, 2, 3, 1, 1, 2, 1],\n",
        "    'qualify': ['yes', 'no', 'yes', 'no', 'no', 'yes', 'yes', 'no', 'no', 'yes']\n",
        "    }\n",
        "labels = ['a', 'b', 'c', 'd', 'e', 'f', 'g', 'h', 'i', 'j']\n",
        "df = pd.DataFrame(exam_data, index = labels)\n",
        "print(\"Expected Output\")\n",
        "print(df.head(3))"
      ],
      "metadata": {
        "colab": {
          "base_uri": "https://localhost:8080/"
        },
        "id": "rnX5pK_Mtqo_",
        "outputId": "4ccf7f64-d747-42c6-ffbe-117406f5a1e0"
      },
      "execution_count": null,
      "outputs": [
        {
          "output_type": "stream",
          "name": "stdout",
          "text": [
            "Expected Output\n",
            "        name  score  attempts qualify\n",
            "a  Anastasia   12.5         1     yes\n",
            "b       Dima    9.0         3      no\n",
            "c  Katherine   16.5         2     yes\n"
          ]
        }
      ]
    },
    {
      "cell_type": "markdown",
      "source": [
        "##4.Write a Pandas program to select the 'name' and 'score' columns from the following DataFrame.\n",
        "\n",
        "```\n",
        "Sample Python dictionary data and list labels:\n",
        "exam_data = {'name': ['Anastasia', 'Dima', 'Katherine', 'James', 'Emily', 'Michael', 'Matthew', 'Laura', 'Kevin', 'Jonas'],\n",
        "'score': [12.5, 9, 16.5, np.nan, 9, 20, 14.5, np.nan, 8, 19],\n",
        "'attempts': [1, 3, 2, 3, 2, 3, 1, 1, 2, 1],\n",
        "'qualify': ['yes', 'no', 'yes', 'no', 'no', 'yes', 'yes', 'no', 'no', 'yes']}\n",
        "labels = ['a', 'b', 'c', 'd', 'e', 'f', 'g', 'h', 'i', 'j']\n",
        "```\n",
        "```"
      ],
      "metadata": {
        "id": "vo2RUrt0t4pw"
      }
    },
    {
      "cell_type": "code",
      "source": [
        "import pandas as pd\n",
        "import numpy as np\n",
        "exam_data = {\n",
        "    'name': ['Anastasia', 'Dima', 'Katherine', 'James', 'Emily', 'Michael', 'Matthew', 'Laura', 'Kevin', 'Jonas'],\n",
        "    'score': [12.5, 9, 16.5, np.nan, 9, 20, 14.5, np.nan, 8, 19],\n",
        "    'attempts': [1, 3, 2, 3, 2, 3, 1, 1, 2, 1],\n",
        "    'qualify': ['yes', 'no', 'yes', 'no', 'no', 'yes', 'yes', 'no', 'no', 'yes']\n",
        "    }\n",
        "labels = ['a', 'b', 'c', 'd', 'e', 'f', 'g', 'h', 'i', 'j']\n",
        "df = pd.DataFrame(exam_data, index = labels)\n",
        "selected_columns=df[['name','score']]\n",
        "print(\"Expected Output\")\n",
        "print(selected_columns)"
      ],
      "metadata": {
        "colab": {
          "base_uri": "https://localhost:8080/"
        },
        "id": "_Ssfw1H1tTGS",
        "outputId": "f34c432f-08bc-4c5b-e4af-c6ecc2db0c87"
      },
      "execution_count": null,
      "outputs": [
        {
          "output_type": "stream",
          "name": "stdout",
          "text": [
            "Expected Output\n",
            "        name  score\n",
            "a  Anastasia   12.5\n",
            "b       Dima    9.0\n",
            "c  Katherine   16.5\n",
            "d      James    NaN\n",
            "e      Emily    9.0\n",
            "f    Michael   20.0\n",
            "g    Matthew   14.5\n",
            "h      Laura    NaN\n",
            "i      Kevin    8.0\n",
            "j      Jonas   19.0\n"
          ]
        }
      ]
    },
    {
      "cell_type": "markdown",
      "source": [
        "##5.  Write a Pandas program to select the specified columns and rows from a given data frame.\n",
        "```\n",
        "Sample Python dictionary data and list labels:\n",
        "Select 'name' and 'score' columns in rows 1, 3, 5, 6 from the following data frame.\n",
        "exam_data = {'name': ['Anastasia', 'Dima', 'Katherine', 'James', 'Emily', 'Michael', 'Matthew', 'Laura', 'Kevin', 'Jonas'],\n",
        "'score': [12.5, 9, 16.5, np.nan, 9, 20, 14.5, np.nan, 8, 19],\n",
        "'attempts': [1, 3, 2, 3, 2, 3, 1, 1, 2, 1],\n",
        "'qualify': ['yes', 'no', 'yes', 'no', 'no', 'yes', 'yes', 'no', 'no', 'yes']}\n",
        "labels = ['a', 'b', 'c', 'd', 'e', 'f', 'g', 'h', 'i', 'j']\n",
        "```\n",
        "```\n",
        "Expected Output:\n",
        "Select specific columns and rows:\n",
        "   score qualify\n",
        "b    9.0      no\n",
        "d    NaN      no\n",
        "f   20.0     yes\n",
        "g   14.5     yes\n"
      ],
      "metadata": {
        "id": "Z8sfZqY-upY0"
      }
    },
    {
      "cell_type": "code",
      "source": [
        "import pandas as pd\n",
        "import numpy as np\n",
        "exam_data = {\n",
        "    'name': ['Anastasia', 'Dima', 'Katherine', 'James', 'Emily', 'Michael', 'Matthew', 'Laura', 'Kevin', 'Jonas'],\n",
        "    'score': [12.5, 9, 16.5, np.nan, 9, 20, 14.5, np.nan, 8, 19],\n",
        "    'attempts': [1, 3, 2, 3, 2, 3, 1, 1, 2, 1],\n",
        "    'qualify': ['yes', 'no', 'yes', 'no', 'no', 'yes', 'yes', 'no', 'no', 'yes']\n",
        "    }\n",
        "labels = ['a', 'b', 'c', 'd', 'e', 'f', 'g', 'h', 'i', 'j']\n",
        "df = pd.DataFrame(exam_data, index = labels)\n",
        "selected_data = df.loc[['b','d','f','g'],['score','qualify']]\n",
        "print(\"Expected Output\")\n",
        "print(selected_data)\n"
      ],
      "metadata": {
        "colab": {
          "base_uri": "https://localhost:8080/"
        },
        "id": "9c5nnM8LvlJM",
        "outputId": "c4b3fb1d-baa8-4d27-d8c9-970d57222c0c"
      },
      "execution_count": null,
      "outputs": [
        {
          "output_type": "stream",
          "name": "stdout",
          "text": [
            "Expected Output\n",
            "   score qualify\n",
            "b    9.0      no\n",
            "d    NaN      no\n",
            "f   20.0     yes\n",
            "g   14.5     yes\n"
          ]
        }
      ]
    },
    {
      "cell_type": "markdown",
      "source": [
        "##6. Write a Pandas program to select the rows where the number of attempts in the examination is greater than 2.\n",
        "\n",
        "```\n",
        "Sample Python dictionary data and list labels:\n",
        "exam_data = {'name': ['Anastasia', 'Dima', 'Katherine', 'James', 'Emily', 'Michael', 'Matthew', 'Laura', 'Kevin', 'Jonas'],\n",
        "'score': [12.5, 9, 16.5, np.nan, 9, 20, 14.5, np.nan, 8, 19],\n",
        "'attempts': [1, 3, 2, 3, 2, 3, 1, 1, 2, 1],\n",
        "'qualify': ['yes', 'no', 'yes', 'no', 'no', 'yes', 'yes', 'no', 'no', 'yes']}\n",
        "labels = ['a', 'b', 'c', 'd', 'e', 'f', 'g', 'h', 'i', 'j']\n",
        "```\n",
        "\n",
        "```\n",
        "Expected Output:\n",
        "Number of attempts in the examination is greater than 2:\n",
        "      name  score  attempts qualify\n",
        "b     Dima    9.0         3      no\n",
        "d    James    NaN         3      no\n",
        "f  Michael   20.0         3     yes\n"
      ],
      "metadata": {
        "id": "tNNayE4yueNp"
      }
    },
    {
      "cell_type": "code",
      "source": [
        "\n",
        "import pandas as pd\n",
        "import numpy as np\n",
        "exam_data = {\n",
        "    'name': ['Anastasia', 'Dima', 'Katherine', 'James', 'Emily', 'Michael', 'Matthew', 'Laura', 'Kevin', 'Jonas'],\n",
        "    'score': [12.5, 9, 16.5, np.nan, 9, 20, 14.5, np.nan, 8, 19],\n",
        "    'attempts': [1, 3, 2, 3, 2, 3, 1, 1, 2, 1],\n",
        "    'qualify': ['yes', 'no', 'yes', 'no', 'no', 'yes', 'yes', 'no', 'no', 'yes']\n",
        "    }\n",
        "labels = ['a', 'b', 'c', 'd', 'e', 'f', 'g', 'h', 'i', 'j']\n",
        "df = pd.DataFrame(exam_data, index = labels)\n",
        "selected_data = df.loc[['b','d','f','g'],['score','qualify']]\n",
        "print(\"Expected Output\")\n",
        "print(selected_data)\n"
      ],
      "metadata": {
        "colab": {
          "base_uri": "https://localhost:8080/"
        },
        "id": "zm1b4uTGv5dw",
        "outputId": "e95eb4ec-10ca-42f5-9632-0bbf1d4a040c"
      },
      "execution_count": null,
      "outputs": [
        {
          "output_type": "stream",
          "name": "stdout",
          "text": [
            "Expected Output\n",
            "   score qualify\n",
            "b    9.0      no\n",
            "d    NaN      no\n",
            "f   20.0     yes\n",
            "g   14.5     yes\n"
          ]
        }
      ]
    },
    {
      "cell_type": "markdown",
      "source": [
        "7. Write a Pandas program to select the rows where the score is missing, i.e. is NaN.\n",
        "Sample Python dictionary data and list labels:\n",
        "exam_data = {'name': ['Anastasia', 'Dima', 'Katherine', 'James', 'Emily', 'Michael', 'Matthew', 'Laura', 'Kevin', 'Jonas'],\n",
        "'score': [12.5, 9, 16.5, np.nan, 9, 20, 14.5, np.nan, 8, 19],\n",
        "'attempts': [1, 3, 2, 3, 2, 3, 1, 1, 2, 1],\n",
        "'qualify': ['yes', 'no', 'yes', 'no', 'no', 'yes', 'yes', 'no', 'no', 'yes']}\n",
        "labels = ['a', 'b', 'c', 'd', 'e', 'f', 'g', labels = ['a', 'b', 'c', 'd', 'e', 'f', 'g', 'h', 'i', 'j']\n",
        "Expected Output:\n",
        "Rows where score is missing:\n",
        "   attempts   name qualify  score\n",
        "d         3  James      no    NaN\n",
        "h         1  Laura      no    NaN"
      ],
      "metadata": {
        "id": "xu0r8U8G1AvO"
      }
    },
    {
      "cell_type": "code",
      "source": [
        "import pandas as pd\n",
        "import numpy as np\n",
        "exam_data = {\n",
        "    'name': ['Anastasia', 'Dima', 'Katherine', 'James', 'Emily', 'Michael', 'Matthew', 'Laura', 'Kevin', 'Jonas'],\n",
        "    'score': [12.5, 9, 16.5, np.nan, 9, 20, 14.5, np.nan, 8, 19],\n",
        "    'attempts': [1, 3, 2, 3, 2, 3, 1, 1, 2, 1],\n",
        "    'qualify': ['yes', 'no', 'yes', 'no', 'no', 'yes', 'yes', 'no', 'no', 'yes']\n",
        "    }\n",
        "labels = ['a', 'b', 'c', 'd', 'e', 'f', 'g', 'h', 'i', 'j']\n",
        "df = pd.DataFrame(exam_data, index = labels)\n",
        "selected_data = df[df['score'].isna()]\n",
        "print(\"Expected Output\")\n",
        "print(selected_data)"
      ],
      "metadata": {
        "colab": {
          "base_uri": "https://localhost:8080/"
        },
        "id": "76itdFKz1LYI",
        "outputId": "5bf85e8a-2f77-4bff-adb8-d5312e319d47"
      },
      "execution_count": null,
      "outputs": [
        {
          "output_type": "stream",
          "name": "stdout",
          "text": [
            "Expected Output\n",
            "    name  score  attempts qualify\n",
            "d  James    NaN         3      no\n",
            "h  Laura    NaN         1      no\n"
          ]
        }
      ]
    },
    {
      "cell_type": "markdown",
      "source": [
        "##8. Write a Pandas program to select the rows the score is between 15 and 20 (inclusive).\n",
        "```\n",
        "Sample Python dictionary data and list labels:\n",
        "exam_data = {'name': ['Anastasia', 'Dima', 'Katherine', 'James', 'Emily', 'Michael', 'Matthew', 'Laura', 'Kevin', 'Jonas'],\n",
        "'score': [12.5, 9, 16.5, np.nan, 9, 20, 14.5, np.nan, 8, 19],\n",
        "'attempts': [1, 3, 2, 3, 2, 3, 1, 1, 2, 1],\n",
        "'qualify': ['yes', 'no', 'yes', 'no', 'no', 'yes', 'yes', 'no', 'no', 'yes']}\n",
        "labels = ['a', 'b', 'c', 'd', 'e', 'f', 'g', labels = ['a', 'b', 'c', 'd', 'e', 'f', 'g', 'h', 'i', 'j']\n",
        "```\n",
        "```\n",
        "Expected Output:\n",
        "Rows where score between 15 and 20 (inclusive):                        \n",
        "   attempts       name qualify  score                                  \n",
        "c         2  Katherine     yes   16.5                                \n",
        "f         3    Michael     yes   20.0                                 \n",
        "j         1      Jonas     yes   19.0\n",
        "```"
      ],
      "metadata": {
        "id": "EvjEP7O11MG1"
      }
    },
    {
      "cell_type": "code",
      "source": [
        "import pandas as pd\n",
        "import numpy as np\n",
        "exam_data = {\n",
        "    'name': ['Anastasia', 'Dima', 'Katherine', 'James', 'Emily', 'Michael', 'Matthew', 'Laura', 'Kevin', 'Jonas'],\n",
        "    'score': [12.5, 9, 16.5, np.nan, 9, 20, 14.5, np.nan, 8, 19],\n",
        "    'attempts': [1, 3, 2, 3, 2, 3, 1, 1, 2, 1],\n",
        "    'qualify': ['yes', 'no', 'yes', 'no', 'no', 'yes', 'yes', 'no', 'no', 'yes']\n",
        "    }\n",
        "labels = ['a', 'b', 'c', 'd', 'e', 'f', 'g', 'h', 'i', 'j']\n",
        "df = pd.DataFrame(exam_data, index = labels)\n",
        "selected_data = df[(df['score']>=16 )& (df['score']<=20)]\n",
        "print(\"Expected Output\")\n",
        "print(selected_data)"
      ],
      "metadata": {
        "id": "4JGiBPM_3Blm"
      },
      "execution_count": null,
      "outputs": []
    },
    {
      "cell_type": "markdown",
      "source": [
        "##9. Write a Pandas program to select the rows where number of attempts in the examination is less than 2 and score greater than 15.\n",
        "\n",
        "```\n",
        "Sample Python dictionary data and list labels:\n",
        "exam_data = {'name': ['Anastasia', 'Dima', 'Katherine', 'James', 'Emily', 'Michael', 'Matthew', 'Laura', 'Kevin', 'Jonas'],\n",
        "'score': [12.5, 9, 16.5, np.nan, 9, 20, 14.5, np.nan, 8, 19],\n",
        "'attempts': [1, 3, 2, 3, 2, 3, 1, 1, 2, 1],\n",
        "'qualify': ['yes', 'no', 'yes', 'no', 'no', 'yes', 'yes', 'no', 'no', 'yes']}\n",
        "labels = ['a', 'b', 'c', 'd', 'e', 'f', 'g', labels = ['a', 'b', 'c', 'd', 'e', 'f', 'g', 'h', 'i', 'j']\n",
        "```\n",
        "```\n",
        "Expected Output:\n",
        "Number of attempts in the examination is less than 2 and score greater than 15 :\n",
        "    name  score  attempts qualify\n",
        "j  Jonas   19.0         1     yes"
      ],
      "metadata": {
        "id": "v9fUgnGd3CG5"
      }
    },
    {
      "cell_type": "code",
      "source": [
        "import pandas as pd\n",
        "import numpy as np\n",
        "exam_data = {\n",
        "    'name': ['Anastasia', 'Dima', 'Katherine', 'James', 'Emily', 'Michael', 'Matthew', 'Laura', 'Kevin', 'Jonas'],\n",
        "    'score': [12.5, 9, 16.5, np.nan, 9, 20, 14.5, np.nan, 8, 19],\n",
        "    'attempts': [1, 3, 2, 3, 2, 3, 1, 1, 2, 1],\n",
        "    'qualify': ['yes', 'no', 'yes', 'no', 'no', 'yes', 'yes', 'no', 'no', 'yes']\n",
        "    }\n",
        "labels = ['a', 'b', 'c', 'd', 'e', 'f', 'g', 'h', 'i', 'j']\n",
        "df = pd.DataFrame(exam_data, index = labels)\n",
        "selected_data = df[(df['attempts']<2 )& (df['score']>15)]\n",
        "print(\"Expected Output\")\n",
        "print(selected_data)"
      ],
      "metadata": {
        "id": "7YKapOv23G-T"
      },
      "execution_count": null,
      "outputs": []
    },
    {
      "cell_type": "markdown",
      "source": [
        "##10. Write a Pandas program to change the score in row 'd' to 11.5.\n",
        "\n",
        "```\n",
        "Sample Python dictionary data and list labels:\n",
        "exam_data = {'name': ['Anastasia', 'Dima', 'Katherine', 'James', 'Emily', 'Michael', 'Matthew', 'Laura', 'Kevin', 'Jonas'],\n",
        "'score': [12.5, 9, 16.5, np.nan, 9, 20, 14.5, np.nan, 8, 19],\n",
        "'attempts': [1, 3, 2, 3, 2, 3, 1, 1, 2, 1],\n",
        "'qualify': ['yes', 'no', 'yes', 'no', 'no', 'yes', 'yes', 'no', 'no', 'yes']}\n",
        "labels = ['a', 'b', 'c', 'd', 'e', 'f', 'g', 'h', 'i', 'j']\n",
        "\n",
        "```\n",
        "\n",
        "```\n",
        "Expected Output:\n",
        "Change the score in row 'd' to 11.5:                                  \n",
        "   attempts       name qualify  score                                \n",
        "a         1  Anastasia     yes   12.5                               \n",
        "b         3       Dima      no    9.0                                \n",
        "c         2  Katherine     yes   16.5\n",
        "...                                \n",
        "i         2      Kevin      no    8.0                                 \n",
        "j         1      Jonas     yes   19.0\n",
        "\n",
        "```"
      ],
      "metadata": {
        "id": "OXT2y23h3Hep"
      }
    },
    {
      "cell_type": "code",
      "source": [
        "import pandas as pd\n",
        "import numpy as np\n",
        "exam_data = {\n",
        "    'name': ['Anastasia', 'Dima', 'Katherine', 'James', 'Emily', 'Michael', 'Matthew', 'Laura', 'Kevin', 'Jonas'],\n",
        "    'score': [12.5, 9, 16.5, np.nan, 9, 20, 14.5, np.nan, 8, 19],\n",
        "    'attempts': [1, 3, 2, 3, 2, 3, 1, 1, 2, 1],\n",
        "    'qualify': ['yes', 'no', 'yes', 'no', 'no', 'yes', 'yes', 'no', 'no', 'yes']\n",
        "    }\n",
        "labels = ['a', 'b', 'c', 'd', 'e', 'f', 'g', 'h', 'i', 'j']\n",
        "df = pd.DataFrame(exam_data, index = labels)\n",
        "\n",
        "df.loc['d','score'] = 11.5\n",
        "\n",
        "print(\"Expected Output\")\n",
        "print(df)\n"
      ],
      "metadata": {
        "colab": {
          "base_uri": "https://localhost:8080/"
        },
        "id": "kWvBQoJY3RQi",
        "outputId": "662ff6c6-c997-4baf-cef4-55f63ad382fb"
      },
      "execution_count": null,
      "outputs": [
        {
          "output_type": "stream",
          "name": "stdout",
          "text": [
            "Expected Output\n",
            "        name  score  attempts qualify\n",
            "a  Anastasia   12.5         1     yes\n",
            "b       Dima    9.0         3      no\n",
            "c  Katherine   16.5         2     yes\n",
            "d      James   11.5         3      no\n",
            "e      Emily    9.0         2      no\n",
            "f    Michael   20.0         3     yes\n",
            "g    Matthew   14.5         1     yes\n",
            "h      Laura    NaN         1      no\n",
            "i      Kevin    8.0         2      no\n",
            "j      Jonas   19.0         1     yes\n"
          ]
        }
      ]
    },
    {
      "cell_type": "markdown",
      "source": [
        "##11. Write a Pandas program to calculate the sum of the examination attempts by the students.\n",
        "```\n",
        "Sample Python dictionary data and list labels:\n",
        "exam_data = {'name': ['Anastasia', 'Dima', 'Katherine', 'James', 'Emily', 'Michael', 'Matthew', 'Laura', 'Kevin', 'Jonas'],\n",
        "'score': [12.5, 9, 16.5, np.nan, 9, 20, 14.5, np.nan, 8, 19],\n",
        "'attempts': [1, 3, 2, 3, 2, 3, 1, 1, 2, 1],\n",
        "'qualify': ['yes', 'no', 'yes', 'no', 'no', 'yes', 'yes', 'no', 'no', 'yes']}\n",
        "labels = ['a', 'b', 'c', 'd', 'e', 'f', 'g', 'h', 'i', 'j']\n",
        "```\n",
        "```\n",
        "Expected Output:\n",
        "Sum of the examination attempts by the students:                     \n",
        "19\n",
        "```"
      ],
      "metadata": {
        "id": "WSV7p07O3_QF"
      }
    },
    {
      "cell_type": "code",
      "source": [
        "import pandas as pd\n",
        "import numpy as np\n",
        "exam_data = {\n",
        "    'name': ['Anastasia', 'Dima', 'Katherine', 'James', 'Emily', 'Michael', 'Matthew', 'Laura', 'Kevin', 'Jonas'],\n",
        "    'score': [12.5, 9, 16.5, np.nan, 9, 20, 14.5, np.nan, 8, 19],\n",
        "    'attempts': [1, 3, 2, 3, 2, 3, 1, 1, 2, 1],\n",
        "    'qualify': ['yes', 'no', 'yes', 'no', 'no', 'yes', 'yes', 'no', 'no', 'yes']\n",
        "    }\n",
        "labels = ['a', 'b', 'c', 'd', 'e', 'f', 'g', 'h', 'i', 'j']\n",
        "df = pd.DataFrame(exam_data, index = labels)\n",
        "\n",
        "total_attempts=df['attempts'].sum()\n",
        "\n",
        "print(\"Sum of the examination attempts by the students:\")\n",
        "print(total_attempts)"
      ],
      "metadata": {
        "colab": {
          "base_uri": "https://localhost:8080/"
        },
        "id": "hgIXstwr4Oxj",
        "outputId": "b6de80aa-7d0e-4293-a102-87c8c55f3702"
      },
      "execution_count": null,
      "outputs": [
        {
          "output_type": "stream",
          "name": "stdout",
          "text": [
            "Sum of the examination attempts by the students:\n",
            "19\n"
          ]
        }
      ]
    },
    {
      "cell_type": "markdown",
      "source": [
        "##12. Write a Pandas program to calculate the mean of all students' scores. Data is stored in a dataframe.\n",
        "```\n",
        "Sample Python dictionary data and list labels:\n",
        "exam_data = {'name': ['Anastasia', 'Dima', 'Katherine', 'James', 'Emily', 'Michael', 'Matthew', 'Laura', 'Kevin', 'Jonas'],\n",
        "'score': [12.5, 9, 16.5, np.nan, 9, 20, 14.5, np.nan, 8, 19],\n",
        "'attempts': [1, 3, 2, 3, 2, 3, 1, 1, 2, 1],\n",
        "'qualify': ['yes', 'no', 'yes', 'no', 'no', 'yes', 'yes', 'no', 'no', 'yes']}\n",
        "labels = ['a', 'b', 'c', 'd', 'e', 'f', 'g', 'h', 'i', 'j']\n",
        "```\n",
        "```\n",
        "Expected Output:\n",
        "Mean score for each different student in data frame:                  \n",
        "13.5625\n",
        "```"
      ],
      "metadata": {
        "id": "W14IGCGt4PR9"
      }
    },
    {
      "cell_type": "code",
      "source": [
        "import pandas as pd\n",
        "import numpy as np\n",
        "exam_data = {\n",
        "    'name': ['Anastasia', 'Dima', 'Katherine', 'James', 'Emily', 'Michael', 'Matthew', 'Laura', 'Kevin', 'Jonas'],\n",
        "    'score': [12.5, 9, 16.5, np.nan, 9, 20, 14.5, np.nan, 8, 19],\n",
        "    'attempts': [1, 3, 2, 3, 2, 3, 1, 1, 2, 1],\n",
        "    'qualify': ['yes', 'no', 'yes', 'no', 'no', 'yes', 'yes', 'no', 'no', 'yes']\n",
        "    }\n",
        "labels = ['a', 'b', 'c', 'd', 'e', 'f', 'g', 'h', 'i', 'j']\n",
        "df = pd.DataFrame(exam_data, index = labels)\n",
        "\n",
        "mean_score=df['score'].mean()\n",
        "\n",
        "print(\"Mean score for each different student in data frame:\")\n",
        "print(mean_score)"
      ],
      "metadata": {
        "colab": {
          "base_uri": "https://localhost:8080/"
        },
        "id": "8RLgxvsZ4WN1",
        "outputId": "8e4ee46d-6c3b-450a-c8db-abbc02510a37"
      },
      "execution_count": null,
      "outputs": [
        {
          "output_type": "stream",
          "name": "stdout",
          "text": [
            "Mean score for each different student in data frame:\n",
            "13.5625\n"
          ]
        }
      ]
    },
    {
      "cell_type": "markdown",
      "source": [
        "##13. Write a Pandas program to replace the 'qualify' column contains the values 'yes' and 'no' with True and False.\n",
        "\n",
        "```\n",
        "Sample Python dictionary data and list labels:\n",
        "exam_data = {'name': ['Anastasia', 'Dima', 'Katherine', 'James', 'Emily', 'Michael', 'Matthew', 'Laura', 'Kevin', 'Jonas'],\n",
        "'score': [12.5, 9, 16.5, np.nan, 9, 20, 14.5, np.nan, 8, 19],\n",
        "'attempts': [1, 3, 2, 3, 2, 3, 1, 1, 2, 1],\n",
        "'qualify': ['yes', 'no', 'yes', 'no', 'no', 'yes', 'yes', 'no', 'no', 'yes']}\n",
        "labels = ['a', 'b', 'c', 'd', 'e', 'f', 'g', 'h', 'i', 'j']\n",
        "```\n",
        "\n",
        "```\n",
        "Expected Output:\n",
        "Replace the 'qualify' column contains the values 'yes' and 'no'  with T\n",
        "rue and  False:                                                      \n",
        "   attempts       name  qualify  score                              \n",
        "a         1  Anastasia     True   12.5                          \n",
        "b         3       Dima    False    9.0                              \n",
        "......                           \n",
        "i         2      Kevin    False    8.0                                 \n",
        "j         1      Jonas     True   19.0\n",
        "```"
      ],
      "metadata": {
        "id": "Fd67IPgU4Wln"
      }
    },
    {
      "cell_type": "code",
      "source": [
        "import pandas as pd\n",
        "import numpy as np\n",
        "exam_data = {\n",
        "    'name': ['Anastasia', 'Dima', 'Katherine', 'James', 'Emily', 'Michael', 'Matthew', 'Laura', 'Kevin', 'Jonas'],\n",
        "    'score': [12.5, 9, 16.5, np.nan, 9, 20, 14.5, np.nan, 8, 19],\n",
        "    'attempts': [1, 3, 2, 3, 2, 3, 1, 1, 2, 1],\n",
        "    'qualify': ['yes', 'no', 'yes', 'no', 'no', 'yes', 'yes', 'no', 'no', 'yes']\n",
        "    }\n",
        "labels = ['a', 'b', 'c', 'd', 'e', 'f', 'g', 'h', 'i', 'j']\n",
        "df = pd.DataFrame(exam_data, index = labels)\n",
        "df['qualify'] = df['qualify'].replace({'yes':True, 'no':False})\n",
        "\n",
        "print(\"Replace the 'qualify' column contains the values 'yes' and 'no' with true and false\")\n",
        "print(df)"
      ],
      "metadata": {
        "colab": {
          "base_uri": "https://localhost:8080/"
        },
        "id": "PkckN92X4ffJ",
        "outputId": "4fb569d9-c7ab-4783-b81a-8bf90b31ed7a"
      },
      "execution_count": null,
      "outputs": [
        {
          "output_type": "stream",
          "name": "stdout",
          "text": [
            "Replace the 'qualify' column contains the values 'yes' and 'no' with true and false\n",
            "        name  score  attempts  qualify\n",
            "a  Anastasia   12.5         1     True\n",
            "b       Dima    9.0         3    False\n",
            "c  Katherine   16.5         2     True\n",
            "d      James    NaN         3    False\n",
            "e      Emily    9.0         2    False\n",
            "f    Michael   20.0         3     True\n",
            "g    Matthew   14.5         1     True\n",
            "h      Laura    NaN         1    False\n",
            "i      Kevin    8.0         2    False\n",
            "j      Jonas   19.0         1     True\n"
          ]
        }
      ]
    },
    {
      "cell_type": "markdown",
      "source": [
        "##14. Write a Pandas program to change the name 'James' to 'Suresh' in name column of the DataFrame.\n",
        "\n",
        "```\n",
        "Sample Python dictionary data and list labels:\n",
        "exam_data = {'name': ['Anastasia', 'Dima', 'Katherine', 'James', 'Emily', 'Michael', 'Matthew', 'Laura', 'Kevin', 'Jonas'],\n",
        "'score': [12.5, 9, 16.5, np.nan, 9, 20, 14.5, np.nan, 8, 19],\n",
        "'attempts': [1, 3, 2, 3, 2, 3, 1, 1, 2, 1],\n",
        "'qualify': ['yes', 'no', 'yes', 'no', 'no', 'yes', 'yes', 'no', 'no', 'yes']}\n",
        "labels = ['a', 'b', 'c', 'd', 'e', 'f', 'g', 'h', 'i', 'j']\n",
        "```\n",
        "```\n",
        "Expected Output:\n",
        "Change the name 'James' to \\?Suresh\\?:                                \n",
        "   attempts       name qualify  score                                  \n",
        "a         1  Anastasia     yes   12.5                                  \n",
        "b         3       Dima      no    9.0                                  \n",
        ".......                               \n",
        "i         2      Kevin      no    8.0                                 \n",
        "j         1      Jonas     yes   19.0"
      ],
      "metadata": {
        "id": "21dOpG7q4f4q"
      }
    },
    {
      "cell_type": "code",
      "source": [
        "import pandas as pd\n",
        "import numpy as np\n",
        "exam_data = {\n",
        "    'name': ['Anastasia', 'Dima', 'Katherine', 'James', 'Emily', 'Michael', 'Matthew', 'Laura', 'Kevin', 'Jonas'],\n",
        "    'score': [12.5, 9, 16.5, np.nan, 9, 20, 14.5, np.nan, 8, 19],\n",
        "    'attempts': [1, 3, 2, 3, 2, 3, 1, 1, 2, 1],\n",
        "    'qualify': ['yes', 'no', 'yes', 'no', 'no', 'yes', 'yes', 'no', 'no', 'yes']\n",
        "    }\n",
        "labels = ['a', 'b', 'c', 'd', 'e', 'f', 'g', 'h', 'i', 'j']\n",
        "df = pd.DataFrame(exam_data, index = labels)\n",
        "df['name'] = df['name'].replace({'James':'Suresh'})\n",
        "\n",
        "print(\"Replace the 'qualify' column contains the values 'yes' and 'no' with true and false\")\n",
        "print(df)\n"
      ],
      "metadata": {
        "colab": {
          "base_uri": "https://localhost:8080/"
        },
        "id": "dYgzDPL94nlD",
        "outputId": "028db2e2-40f9-404e-d6d3-3e2c0ca0a74f"
      },
      "execution_count": null,
      "outputs": [
        {
          "output_type": "stream",
          "name": "stdout",
          "text": [
            "Replace the 'qualify' column contains the values 'yes' and 'no' with true and false\n",
            "        name  score  attempts qualify\n",
            "a  Anastasia   12.5         1     yes\n",
            "b       Dima    9.0         3      no\n",
            "c  Katherine   16.5         2     yes\n",
            "d     Suresh    NaN         3      no\n",
            "e      Emily    9.0         2      no\n",
            "f    Michael   20.0         3     yes\n",
            "g    Matthew   14.5         1     yes\n",
            "h      Laura    NaN         1      no\n",
            "i      Kevin    8.0         2      no\n",
            "j      Jonas   19.0         1     yes\n"
          ]
        }
      ]
    },
    {
      "cell_type": "markdown",
      "source": [
        "##15. Write a Pandas program to delete the 'attempts' column from the DataFrame.\n",
        "```\n",
        "Sample Python dictionary data and list labels:\n",
        "exam_data = {'name': ['Anastasia', 'Dima', 'Katherine', 'James', 'Emily', 'Michael', 'Matthew', 'Laura', 'Kevin', 'Jonas'],\n",
        "'score': [12.5, 9, 16.5, np.nan, 9, 20, 14.5, np.nan, 8, 19],\n",
        "'attempts': [1, 3, 2, 3, 2, 3, 1, 1, 2, 1],\n",
        "'qualify': ['yes', 'no', 'yes', 'no', 'no', 'yes', 'yes', 'no', 'no', 'yes']}\n",
        "labels = ['a', 'b', 'c', 'd', 'e', 'f', 'g', 'h', 'i', 'j']\n",
        "```\n",
        "```\n",
        "Expected Output:\n",
        "Delete the 'attempts' column from the data frame:                    \n",
        "        name qualify  score                                          \n",
        "a  Anastasia     yes   12.5                                           \n",
        "b       Dima      no    9.0"
      ],
      "metadata": {
        "id": "5WILQ9PY4n8W"
      }
    },
    {
      "cell_type": "code",
      "source": [
        "import pandas as pd\n",
        "import numpy as np\n",
        "exam_data = {\n",
        "    'name': ['Anastasia', 'Dima', 'Katherine', 'James', 'Emily', 'Michael', 'Matthew', 'Laura', 'Kevin', 'Jonas'],\n",
        "    'score': [12.5, 9, 16.5, np.nan, 9, 20, 14.5, np.nan, 8, 19],\n",
        "    'attempts': [1, 3, 2, 3, 2, 3, 1, 1, 2, 1],\n",
        "    'qualify': ['yes', 'no', 'yes', 'no', 'no', 'yes', 'yes', 'no', 'no', 'yes']\n",
        "    }\n",
        "labels = ['a', 'b', 'c', 'd', 'e', 'f', 'g', 'h', 'i', 'j']\n",
        "df = pd.DataFrame(exam_data, index = labels)\n",
        "df = df.drop('attempts',axis = 1)\n",
        "print(\"Delete the 'attempts' column from the data frame: \")\n",
        "print(df)"
      ],
      "metadata": {
        "colab": {
          "base_uri": "https://localhost:8080/"
        },
        "id": "TjhAnxF_4vbv",
        "outputId": "d82da455-9caf-4528-87a9-0ba3b15180c0"
      },
      "execution_count": null,
      "outputs": [
        {
          "output_type": "stream",
          "name": "stdout",
          "text": [
            "Delete the 'attempts' column from the data frame: \n",
            "        name  score qualify\n",
            "a  Anastasia   12.5     yes\n",
            "b       Dima    9.0      no\n",
            "c  Katherine   16.5     yes\n",
            "d      James    NaN      no\n",
            "e      Emily    9.0      no\n",
            "f    Michael   20.0     yes\n",
            "g    Matthew   14.5     yes\n",
            "h      Laura    NaN      no\n",
            "i      Kevin    8.0      no\n",
            "j      Jonas   19.0     yes\n"
          ]
        }
      ]
    },
    {
      "cell_type": "markdown",
      "source": [
        "##16.  Write a Pandas program to insert a new column in existing DataFrame.\n",
        "\n",
        "```\n",
        "Sample Python dictionary data and list labels:\n",
        "exam_data = {'name': ['Anastasia', 'Dima', 'Katherine', 'James', 'Emily', 'Michael', 'Matthew', 'Laura', 'Kevin', 'Jonas'],\n",
        "'score': [12.5, 9, 16.5, np.nan, 9, 20, 14.5, np.nan, 8, 19],\n",
        "'attempts': [1, 3, 2, 3, 2, 3, 1, 1, 2, 1],\n",
        "'qualify': ['yes', 'no', 'yes', 'no', 'no', 'yes', 'yes', 'no', 'no', 'yes']}\n",
        "labels = ['a', 'b', 'c', 'd', 'e', 'f', 'g', 'h', 'i', 'j']\n",
        "```\n",
        "```\n",
        "Expected Output:\n",
        "New DataFrame after inserting the 'color' column                       \n",
        "   attempts       name qualify  score   color                       \n",
        "a         1  Anastasia     yes   12.5     Red                         \n",
        "b         3       Dima      no    9.0    Blue                        \n",
        ".......                     \n",
        "i         2      Kevin      no    8.0   Green                        \n",
        "j         1      Jonas     yes   19.0     Red\n",
        "```"
      ],
      "metadata": {
        "id": "zzj-ZxXQ4v5l"
      }
    },
    {
      "cell_type": "code",
      "source": [
        "import pandas as pd\n",
        "import numpy as np\n",
        "exam_data = {\n",
        "    'name': ['Anastasia', 'Dima', 'Katherine', 'James', 'Emily', 'Michael', 'Matthew', 'Laura', 'Kevin', 'Jonas'],\n",
        "    'score': [12.5, 9, 16.5, np.nan, 9, 20, 14.5, np.nan, 8, 19],\n",
        "    'attempts': [1, 3, 2, 3, 2, 3, 1, 1, 2, 1],\n",
        "    'qualify': ['yes', 'no', 'yes', 'no', 'no', 'yes', 'yes', 'no', 'no', 'yes']\n",
        "    }\n",
        "labels = ['a', 'b', 'c', 'd', 'e', 'f', 'g', 'h', 'i', 'j']\n",
        "df = pd.DataFrame(exam_data, index = labels)\n",
        "df = df.assign(color = ['Red','Blue','Red','Blue','Blue','Red','Red','Blue','Green','Red'])\n",
        "print(\"New DataFrame after inserting the 'color' column \")\n",
        "print(df)"
      ],
      "metadata": {
        "colab": {
          "base_uri": "https://localhost:8080/"
        },
        "id": "eejizPNZ42VO",
        "outputId": "5a879c20-30dd-44e6-fccd-6b927dc3a7a0"
      },
      "execution_count": null,
      "outputs": [
        {
          "output_type": "stream",
          "name": "stdout",
          "text": [
            "New DataFrame after inserting the 'color' column \n",
            "        name  score  attempts qualify  color\n",
            "a  Anastasia   12.5         1     yes    Red\n",
            "b       Dima    9.0         3      no   Blue\n",
            "c  Katherine   16.5         2     yes    Red\n",
            "d      James    NaN         3      no   Blue\n",
            "e      Emily    9.0         2      no   Blue\n",
            "f    Michael   20.0         3     yes    Red\n",
            "g    Matthew   14.5         1     yes    Red\n",
            "h      Laura    NaN         1      no   Blue\n",
            "i      Kevin    8.0         2      no  Green\n",
            "j      Jonas   19.0         1     yes    Red\n"
          ]
        }
      ]
    },
    {
      "cell_type": "markdown",
      "source": [
        "##17.  Write a Pandas program to rename columns of a given DataFrame\n",
        "\n",
        "```\n",
        "Sample data:\n",
        "Original DataFrame\n",
        "   col1  col2  col3\n",
        "0     1     4     7\n",
        "1     2     5     8\n",
        "2     3     6     9\n",
        "New DataFrame after renaming columns:\n",
        "   Column1  Column2  Column3\n",
        "0        1        4        7\n",
        "1        2        5        8\n",
        "2        3        6        9\n",
        "```"
      ],
      "metadata": {
        "id": "41WUdMHQ42xM"
      }
    },
    {
      "cell_type": "code",
      "source": [
        "import pandas as pd\n",
        "sample_date = {'col1': [1, 2, 3], 'col2': [4, 5, 6], 'col3': [7, 8, 9]}\n",
        "df = pd.DataFrame(sample_date)\n",
        "print(\"Original Dataframe\")\n",
        "print(df)\n",
        "df = df.rename(columns = {'col1':'Column1', 'col2':'Column2', 'col3':'Column3'})\n",
        "print(\"New DataFrame after renaming columns:\")\n",
        "print(df)"
      ],
      "metadata": {
        "colab": {
          "base_uri": "https://localhost:8080/"
        },
        "id": "LghJ8VN8gKiq",
        "outputId": "e61847b9-1ae6-46ce-9fae-c62fe8ed207f"
      },
      "execution_count": null,
      "outputs": [
        {
          "output_type": "stream",
          "name": "stdout",
          "text": [
            "Original Dataframe\n",
            "   col1  col2  col3\n",
            "0     1     4     7\n",
            "1     2     5     8\n",
            "2     3     6     9\n",
            "New DataFrame after renaming columns:\n",
            "   Column1  Column2  Column3\n",
            "0        1        4        7\n",
            "1        2        5        8\n",
            "2        3        6        9\n"
          ]
        }
      ]
    },
    {
      "cell_type": "markdown",
      "source": [
        "##18. Write a Pandas program to select rows from a given DataFrame based on values in some columns.\n",
        "```\n",
        "Sample data:\n",
        "Original DataFrame\n",
        "   col1  col2  col3\n",
        "0     1     4     7\n",
        "1     4     5     8\n",
        "2     3     6     9\n",
        "3     4     7     0\n",
        "4     5     8     1\n",
        "Rows for colum1 value == 4\n",
        "   col1  col2  col3\n",
        "1     4     5     8\n",
        "3     4     7     0\n",
        "```"
      ],
      "metadata": {
        "id": "um6hHbrfgLAT"
      }
    },
    {
      "cell_type": "code",
      "source": [
        "import pandas as pd\n",
        "data = {'col1': [1, 4, 3, 4, 5],\n",
        "        'col2': [4, 5, 6, 7, 8],\n",
        "        'col3': [7, 8, 9, 0, 1]}\n",
        "df = pd.DataFrame(data)\n",
        "print(\"Original DataFrame\")\n",
        "print(df)\n",
        "selected_rows = df[df['col1']==4]\n",
        "print(\"Rows for colum1 value == 4\")\n",
        "print(selected_rows)"
      ],
      "metadata": {
        "colab": {
          "base_uri": "https://localhost:8080/"
        },
        "id": "PTeOChP0gPaR",
        "outputId": "b185ed79-a381-4889-8ee7-42a6ffbc28d8"
      },
      "execution_count": null,
      "outputs": [
        {
          "output_type": "stream",
          "name": "stdout",
          "text": [
            "Original DataFrame\n",
            "   col1  col2  col3\n",
            "0     1     4     7\n",
            "1     4     5     8\n",
            "2     3     6     9\n",
            "3     4     7     0\n",
            "4     5     8     1\n",
            "Rows for colum1 value == 4\n",
            "   col1  col2  col3\n",
            "1     4     5     8\n",
            "3     4     7     0\n"
          ]
        }
      ]
    },
    {
      "cell_type": "markdown",
      "source": [
        "##19. Write a Pandas program to add one row in an existing DataFrame.\n",
        "\n",
        "```\n",
        "Sample data:\n",
        "Original DataFrame\n",
        "   col1  col2  col3\n",
        "0     1     4     7\n",
        "1     4     5     8\n",
        "2     3     6     9\n",
        "3     4     7     0\n",
        "4     5     8     1\n",
        "After add one row:\n",
        "   col1  col2  col3\n",
        "0     1     4     7\n",
        "1     4     5     8\n",
        "2     3     6     9\n",
        "3     4     7     0\n",
        "4     5     8     1\n",
        "5    10    11    12\n",
        "```"
      ],
      "metadata": {
        "id": "NKcrfMsFgP-M"
      }
    },
    {
      "cell_type": "code",
      "source": [
        "import pandas as pd\n",
        "data = {'col1': [1, 4, 3, 4, 5],\n",
        "        'col2': [4, 5, 6, 7, 8],\n",
        "        'col3': [7, 8, 9, 0, 1]}\n",
        "df = pd.DataFrame(data)\n",
        "print(\"Original DataFrame\")\n",
        "print(df)\n",
        "new_row = {'col1':10, 'col2':11, 'col3':12}\n",
        "df = df.append(new_row, ignore_index=True)\n",
        "print(\"After add one row:\")\n",
        "print(df)\n",
        "\n"
      ],
      "metadata": {
        "colab": {
          "base_uri": "https://localhost:8080/"
        },
        "id": "L488sLIagV1V",
        "outputId": "d6b9efa6-a2cb-4e41-c4d4-64d912687dda"
      },
      "execution_count": null,
      "outputs": [
        {
          "output_type": "stream",
          "name": "stdout",
          "text": [
            "Original DataFrame\n",
            "   col1  col2  col3\n",
            "0     1     4     7\n",
            "1     4     5     8\n",
            "2     3     6     9\n",
            "3     4     7     0\n",
            "4     5     8     1\n",
            "After add one row:\n",
            "   col1  col2  col3\n",
            "0     1     4     7\n",
            "1     4     5     8\n",
            "2     3     6     9\n",
            "3     4     7     0\n",
            "4     5     8     1\n",
            "5    10    11    12\n"
          ]
        },
        {
          "output_type": "stream",
          "name": "stderr",
          "text": [
            "<ipython-input-4-feab1ae676e1>:9: FutureWarning: The frame.append method is deprecated and will be removed from pandas in a future version. Use pandas.concat instead.\n",
            "  df = df.append(new_row, ignore_index=True)\n"
          ]
        }
      ]
    },
    {
      "cell_type": "markdown",
      "source": [
        "##20. Write a Pandas program to replace all the NaN values with Zero's in a column of a dataframe.\n",
        "\n",
        "```\n",
        "Sample data:\n",
        "Original DataFrame\n",
        "\n",
        "   attempts       name qualify  score\n",
        "0         1  Anastasia     yes   12.5\n",
        "1         3       Dima      no    9.0\n",
        "2         2  Katherine     yes   16.5\n",
        ".....\n",
        "8         2      Kevin      no    8.0\n",
        "9         1      Jonas     yes   19.0\n",
        "\n",
        "```\n",
        "```\n",
        "\n",
        "New DataFrame replacing all NaN with 0:\n",
        "   attempts       name qualify  score\n",
        "0         1  Anastasia     yes   12.5\n",
        "1         3       Dima      no    9.0\n",
        "2         2  Katherine     yes   16.5\n",
        ".....\n",
        "8         2      Kevin      no    8.0\n",
        "9         1      Jonas     yes   19.0\n",
        "```"
      ],
      "metadata": {
        "id": "TEmzFG5egWQq"
      }
    },
    {
      "cell_type": "code",
      "source": [
        "import pandas as pd\n",
        "import numpy as np\n",
        "exam_data = {\n",
        "    'name': ['Anastasia', 'Dima', 'Katherine', 'James', 'Emily', 'Michael', 'Matthew', 'Laura', 'Kevin', 'Jonas'],\n",
        "    'score': [12.5, 9, 16.5, np.nan, 9, 20, 14.5, np.nan, 8, 19],\n",
        "    'attempts': [1, 3, 2, 3, 2, 3, 1, 1, 2, 1],\n",
        "    'qualify': ['yes', 'no', 'yes', 'no', 'no', 'yes', 'yes', 'no', 'no', 'yes']\n",
        "    }\n",
        "labels = ['a', 'b', 'c', 'd', 'e', 'f', 'g', 'h', 'i', 'j']\n",
        "df = pd.DataFrame(exam_data, index = labels)\n",
        "print(\"Original DataFrame\")\n",
        "print(df)\n",
        "df = df.fillna(0)\n",
        "print(\"\\nNew DataFrame replacing all NaN with 0:\")\n",
        "print(df)"
      ],
      "metadata": {
        "colab": {
          "base_uri": "https://localhost:8080/"
        },
        "id": "E54_PAdEgdJi",
        "outputId": "67097b3b-faa8-4694-9b5f-32588fb4192a"
      },
      "execution_count": null,
      "outputs": [
        {
          "output_type": "stream",
          "name": "stdout",
          "text": [
            "Original DataFrame\n",
            "        name  score  attempts qualify\n",
            "a  Anastasia   12.5         1     yes\n",
            "b       Dima    9.0         3      no\n",
            "c  Katherine   16.5         2     yes\n",
            "d      James    NaN         3      no\n",
            "e      Emily    9.0         2      no\n",
            "f    Michael   20.0         3     yes\n",
            "g    Matthew   14.5         1     yes\n",
            "h      Laura    NaN         1      no\n",
            "i      Kevin    8.0         2      no\n",
            "j      Jonas   19.0         1     yes\n",
            "\n",
            "New DataFrame replacing all NaN with 0:\n",
            "        name  score  attempts qualify\n",
            "a  Anastasia   12.5         1     yes\n",
            "b       Dima    9.0         3      no\n",
            "c  Katherine   16.5         2     yes\n",
            "d      James    0.0         3      no\n",
            "e      Emily    9.0         2      no\n",
            "f    Michael   20.0         3     yes\n",
            "g    Matthew   14.5         1     yes\n",
            "h      Laura    0.0         1      no\n",
            "i      Kevin    8.0         2      no\n",
            "j      Jonas   19.0         1     yes\n"
          ]
        }
      ]
    },
    {
      "cell_type": "markdown",
      "source": [
        "##21. Write a Pandas program to count the NaN values in one or more columns in DataFrame.\n",
        "```\n",
        "Sample data:\n",
        "Original DataFrame\n",
        "   attempts       name qualify  score\n",
        "0         1  Anastasia     yes   12.5\n",
        "1         3       Dima      no    9.0\n",
        "2         2  Katherine     yes   16.5\n",
        "3         3      James      no    NaN\n",
        "4         2      Emily      no    9.0\n",
        "5         3    Michael     yes   20.0\n",
        "6         1    Matthew     yes   14.5\n",
        "7         1      Laura      no    NaN\n",
        "8         2      Kevin      no    8.0\n",
        "9         1      Jonas     yes   19.0\n",
        "\n",
        "Number of NaN values in one or more columns:\n",
        "2\n",
        "\n",
        "```"
      ],
      "metadata": {
        "id": "wKMovxssgdp8"
      }
    },
    {
      "cell_type": "code",
      "source": [
        "import pandas as pd\n",
        "import numpy as np\n",
        "exam_data = {\n",
        "    'name': ['Anastasia', 'Dima', 'Katherine', 'James', 'Emily', 'Michael', 'Matthew', 'Laura', 'Kevin', 'Jonas'],\n",
        "    'score': [12.5, 9, 16.5, np.nan, 9, 20, 14.5, np.nan, 8, 19],\n",
        "    'attempts': [1, 3, 2, 3, 2, 3, 1, 1, 2, 1],\n",
        "    'qualify': ['yes', 'no', 'yes', 'no', 'no', 'yes', 'yes', 'no', 'no', 'yes']\n",
        "    }\n",
        "labels = ['a', 'b', 'c', 'd', 'e', 'f', 'g', 'h', 'i', 'j']\n",
        "df = pd.DataFrame(exam_data, index = labels)\n",
        "print(\"Original DataFrame\")\n",
        "print(df)\n",
        "df = df.isna().sum().sum()\n",
        "print(\"Number of NaN values in one or more columns:\")\n",
        "print(df)"
      ],
      "metadata": {
        "colab": {
          "base_uri": "https://localhost:8080/"
        },
        "id": "a9pAi3toh4rL",
        "outputId": "419d4ddc-86b9-4a21-93ee-d013ecf52c0e"
      },
      "execution_count": null,
      "outputs": [
        {
          "output_type": "stream",
          "name": "stdout",
          "text": [
            "Original DataFrame\n",
            "        name  score  attempts qualify\n",
            "a  Anastasia   12.5         1     yes\n",
            "b       Dima    9.0         3      no\n",
            "c  Katherine   16.5         2     yes\n",
            "d      James    NaN         3      no\n",
            "e      Emily    9.0         2      no\n",
            "f    Michael   20.0         3     yes\n",
            "g    Matthew   14.5         1     yes\n",
            "h      Laura    NaN         1      no\n",
            "i      Kevin    8.0         2      no\n",
            "j      Jonas   19.0         1     yes\n",
            "Number of NaN values in one or more columns:\n",
            "2\n"
          ]
        }
      ]
    },
    {
      "cell_type": "markdown",
      "source": [
        "##22. Write a Pandas program to drop a list of rows from a specified DataFrame.\n",
        "```\n",
        "Sample data:\n",
        "Original DataFrame\n",
        "   col1  col2  col3\n",
        "0     1     4     7\n",
        "1     4     5     8\n",
        "2     3     6     9\n",
        "3     4     7     0\n",
        "4     5     8     1\n",
        "\n",
        "\n",
        "New DataFrame after removing 2nd & 4th rows:\n",
        "   col1  col2  col3\n",
        "0     1     4     7\n",
        "1     4     5     8\n",
        "3     4     7     0"
      ],
      "metadata": {
        "id": "nX76xPhTiAe-"
      }
    },
    {
      "cell_type": "code",
      "source": [
        "import pandas as pd\n",
        "\n",
        "data={'col1':[1,4,3,4,5],'col2':[4,5,6,7,8,],'col3':[7,8,9,0,1]}\n",
        "df=pd.DataFrame(data)\n",
        "print(\"original dataframe\")\n",
        "print(df)\n",
        "df=df.drop(df.index[[2,4]])\n",
        "print(\"\\nNew DataFrame after removing 2nd & 4th rows:\")\n",
        "print(df)"
      ],
      "metadata": {
        "colab": {
          "base_uri": "https://localhost:8080/"
        },
        "id": "t9flHijyiPT8",
        "outputId": "1dbbf5b4-778b-4cb1-d58b-00b3136f7f05"
      },
      "execution_count": null,
      "outputs": [
        {
          "output_type": "stream",
          "name": "stdout",
          "text": [
            "original dataframe\n",
            "   col1  col2  col3\n",
            "0     1     4     7\n",
            "1     4     5     8\n",
            "2     3     6     9\n",
            "3     4     7     0\n",
            "4     5     8     1\n",
            "\n",
            "New DataFrame after removing 2nd & 4th rows:\n",
            "   col1  col2  col3\n",
            "0     1     4     7\n",
            "1     4     5     8\n",
            "3     4     7     0\n"
          ]
        }
      ]
    },
    {
      "cell_type": "markdown",
      "source": [
        "##23. . Write a Pandas program to convert DataFrame column type from string to datetime.\n",
        "\n",
        "```\n",
        "\n",
        "Sample data:\n",
        "String Date:\n",
        "0    3/11/2000\n",
        "1    3/12/2000\n",
        "2    3/13/2000\n",
        "dtype: object\n",
        "\n",
        "\n",
        "Original DataFrame (string to datetime):\n",
        "           0\n",
        "0 2000-03-11\n",
        "1 2000-03-12\n",
        "2 2000-03-13\n",
        "```"
      ],
      "metadata": {
        "id": "n1ZXK6peiQD-"
      }
    },
    {
      "cell_type": "code",
      "source": [
        "import pandas as pd\n",
        "string_dates = pd.Series(['3/11/2000', '3/12/2000', '3/13/2000'])\n",
        "print(\"String Dates\")\n",
        "print(string_dates)\n",
        "date_time_column = pd.to_datetime(string_dates)\n",
        "df = pd.DataFrame({0: date_time_column})\n",
        "print(\"Original DataFrame (string to datetime):\")\n",
        "print(df)"
      ],
      "metadata": {
        "colab": {
          "base_uri": "https://localhost:8080/"
        },
        "id": "zqhBZQLZiWSC",
        "outputId": "56ca1dbd-2a16-40dc-fb3a-4412516f4651"
      },
      "execution_count": null,
      "outputs": [
        {
          "output_type": "stream",
          "name": "stdout",
          "text": [
            "String Dates\n",
            "0    3/11/2000\n",
            "1    3/12/2000\n",
            "2    3/13/2000\n",
            "dtype: object\n",
            "Original DataFrame (string to datetime):\n",
            "           0\n",
            "0 2000-03-11\n",
            "1 2000-03-12\n",
            "2 2000-03-13\n"
          ]
        }
      ]
    },
    {
      "cell_type": "markdown",
      "source": [
        "##24. Write a Pandas program to find the row for where the value of a given column is maximum.\n",
        "\n",
        "```\n",
        "Sample Output:\n",
        "Original DataFrame\n",
        "   col1  col2  col3\n",
        "0     1     4     7\n",
        "1     2     5     8\n",
        "2     3     6    12\n",
        "3     4     9     1\n",
        "4     7     5    11\n",
        "Row where col1 has maximum value:\n",
        "4\n",
        "Row where col2 has maximum value:\n",
        "3\n",
        "Row where col3 has maximum value:\n",
        "2\n",
        "```"
      ],
      "metadata": {
        "id": "16rbDokciWrc"
      }
    },
    {
      "cell_type": "code",
      "source": [
        "import pandas as pd\n",
        "data = {'col1': [1, 2, 3, 4, 7],\n",
        "        'col2': [4, 5, 6, 9, 5],\n",
        "        'col3': [7, 8, 12, 1, 11]}\n",
        "\n",
        "df = pd.DataFrame(data)\n",
        "print(\"Original DataFrame\")\n",
        "print(df)\n",
        "max_col1_row = df['col1'].argmax()\n",
        "max_col2_row = df['col2'].argmax()\n",
        "max_col3_row = df['col3'].argmax()\n",
        "print(\"\\nRow where col1 has maximum value:\")\n",
        "print(max_col1_row)\n",
        "print(\"Row where col2 has maximum value:\")\n",
        "print(max_col2_row)\n",
        "print(\"Row where col3 has maximum value:\")\n",
        "print(max_col3_row)"
      ],
      "metadata": {
        "colab": {
          "base_uri": "https://localhost:8080/"
        },
        "id": "QDfkTWkOib_2",
        "outputId": "b95c3b26-c86e-418d-afe6-47c97d20c3f7"
      },
      "execution_count": null,
      "outputs": [
        {
          "output_type": "stream",
          "name": "stdout",
          "text": [
            "Original DataFrame\n",
            "   col1  col2  col3\n",
            "0     1     4     7\n",
            "1     2     5     8\n",
            "2     3     6    12\n",
            "3     4     9     1\n",
            "4     7     5    11\n",
            "\n",
            "Row where col1 has maximum value:\n",
            "4\n",
            "Row where col2 has maximum value:\n",
            "3\n",
            "Row where col3 has maximum value:\n",
            "2\n"
          ]
        }
      ]
    },
    {
      "cell_type": "markdown",
      "source": [
        "##25. Write a Pandas program to get the datatypes of columns of a DataFrame.\n",
        "\n",
        "```\n",
        "Sample data:\n",
        "Original DataFrame:\n",
        "   attempts       name qualify  score\n",
        "0         1  Anastasia     yes   12.5\n",
        "1         3       Dima      no    9.0\n",
        ".......\n",
        "8         2      Kevin      no    8.0\n",
        "9         1      Jonas     yes   19.0\n",
        "Data types of the columns of the said DataFrame:\n",
        "attempts      int64\n",
        "name         object\n",
        "qualify      object\n",
        "score       float64\n",
        "dtype: object\n",
        "```"
      ],
      "metadata": {
        "id": "nnVGfQ8eiceO"
      }
    },
    {
      "cell_type": "code",
      "source": [
        "import pandas as pd\n",
        "import numpy as np\n",
        "exam_data = {\n",
        "    'name': ['Anastasia', 'Dima', 'Katherine', 'James', 'Emily', 'Michael', 'Matthew', 'Laura', 'Kevin', 'Jonas'],\n",
        "    'score': [12.5, 9, 16.5, np.nan, 9, 20, 14.5, np.nan, 8, 19],\n",
        "    'attempts': [1, 3, 2, 3, 2, 3, 1, 1, 2, 1],\n",
        "    'qualify': ['yes', 'no', 'yes', 'no', 'no', 'yes', 'yes', 'no', 'no', 'yes']\n",
        "    }\n",
        "labels = ['a', 'b', 'c', 'd', 'e', 'f', 'g', 'h', 'i', 'j']\n",
        "df = pd.DataFrame(exam_data, index = labels)\n",
        "print(\"Original DataFrame\")\n",
        "print(df)\n",
        "column_datatype=df.dtypes\n",
        "print(\"\\nData types of the columns of the said DataFrame:\")\n",
        "print(column_datatype)"
      ],
      "metadata": {
        "colab": {
          "base_uri": "https://localhost:8080/"
        },
        "id": "SZKNnf2PihH_",
        "outputId": "29a0a5cd-e751-4193-d391-0bcea5b999ea"
      },
      "execution_count": null,
      "outputs": [
        {
          "output_type": "stream",
          "name": "stdout",
          "text": [
            "Original DataFrame\n",
            "        name  score  attempts qualify\n",
            "a  Anastasia   12.5         1     yes\n",
            "b       Dima    9.0         3      no\n",
            "c  Katherine   16.5         2     yes\n",
            "d      James    NaN         3      no\n",
            "e      Emily    9.0         2      no\n",
            "f    Michael   20.0         3     yes\n",
            "g    Matthew   14.5         1     yes\n",
            "h      Laura    NaN         1      no\n",
            "i      Kevin    8.0         2      no\n",
            "j      Jonas   19.0         1     yes\n",
            "\n",
            "Data types of the columns of the said DataFrame:\n",
            "name         object\n",
            "score       float64\n",
            "attempts      int64\n",
            "qualify      object\n",
            "dtype: object\n"
          ]
        }
      ]
    },
    {
      "cell_type": "markdown",
      "source": [
        "##26. Write a Pandas program to group by the first column and get second column as lists in rows.\n",
        "\n",
        "```\n",
        "Sample data:\n",
        "Original DataFrame\n",
        "col1 col2\n",
        "0 C1 1\n",
        "1 C1 2\n",
        "2 C2 3\n",
        "3 C2 3\n",
        "4 C2 4\n",
        "5 C3 6\n",
        "6 C2 5\n",
        "\n",
        "\n",
        "Group on the col1:\n",
        "col1\n",
        "C1 [1, 2]\n",
        "C2 [3, 3, 4, 5]\n",
        "C3 [6]\n",
        "Name: col2, dtype: object\n",
        "```"
      ],
      "metadata": {
        "id": "-1C99m26ipYs"
      }
    },
    {
      "cell_type": "code",
      "source": [
        "import pandas as pd\n",
        "data = {'col1': ['C1', 'C1', 'C2', 'C2', 'C2', 'C3', 'C2'],\n",
        "        'col2': [1, 2, 3, 3, 4, 6, 5]}\n",
        "df = pd.DataFrame(data)\n",
        "result = df.groupby('col1')['col2'].agg(list)\n",
        "print(\"Group on the col1:\")\n",
        "print(result)"
      ],
      "metadata": {
        "colab": {
          "base_uri": "https://localhost:8080/"
        },
        "id": "TVSC0gjPirVx",
        "outputId": "1bf90d1e-4b79-4186-ace7-505e355dc7d8"
      },
      "execution_count": null,
      "outputs": [
        {
          "output_type": "stream",
          "name": "stdout",
          "text": [
            "Group on the col1:\n",
            "col1\n",
            "C1          [1, 2]\n",
            "C2    [3, 3, 4, 5]\n",
            "C3             [6]\n",
            "Name: col2, dtype: object\n"
          ]
        }
      ]
    },
    {
      "cell_type": "markdown",
      "source": [
        "##27  Write a Pandas program to count number of columns of a DataFrame.\n",
        "\n",
        "```\n",
        "Sample Output:\n",
        "Original DataFrame\n",
        "  col1 col2 col3\n",
        "0  1    4   7\n",
        "1  2    5   8\n",
        "2  3    6   12\n",
        "3  4    9   1\n",
        "4  7    5   11\n",
        "\n",
        "Number of columns:\n",
        "3\n",
        "```"
      ],
      "metadata": {
        "id": "qDEwcYJYivB_"
      }
    },
    {
      "cell_type": "code",
      "source": [
        "import pandas as pd\n",
        "\n",
        "data = {'col1': [1, 2, 3, 4, 7],\n",
        "        'col2': [4, 5, 6, 9, 5],\n",
        "        'col3': [7, 8, 12, 1, 11]}\n",
        "\n",
        "df = pd.DataFrame(data)\n",
        "print(\"Original DataFrame\")\n",
        "print(df)\n",
        "num_columns = df.shape[1]\n",
        "print(\"\\nNumber of columns:\")\n",
        "print(num_columns)"
      ],
      "metadata": {
        "colab": {
          "base_uri": "https://localhost:8080/"
        },
        "id": "8yX-lstwiyLt",
        "outputId": "74639b73-e16a-4b30-d015-f384994e0af1"
      },
      "execution_count": null,
      "outputs": [
        {
          "output_type": "stream",
          "name": "stdout",
          "text": [
            "Original DataFrame\n",
            "   col1  col2  col3\n",
            "0     1     4     7\n",
            "1     2     5     8\n",
            "2     3     6    12\n",
            "3     4     9     1\n",
            "4     7     5    11\n",
            "\n",
            "Number of columns:\n",
            "3\n"
          ]
        }
      ]
    },
    {
      "cell_type": "markdown",
      "source": [
        "##28.  Write a Pandas program to get first n records of a DataFrame.\n",
        "\n",
        "```\n",
        "Sample Output:\n",
        "Original DataFrame\n",
        "col1 col2 col3\n",
        "0 1 4 7\n",
        "1 2 5 5\n",
        "2 3 6 8\n",
        "3 4 9 12\n",
        "4 7 5 1\n",
        "5 11 0 11\n",
        "\n",
        "First 3 rows of the said DataFrame':\n",
        "col1 col2 col3\n",
        "0 1 4 7\n",
        "1 2 5 5\n",
        "2 3 6 8\n",
        "```"
      ],
      "metadata": {
        "id": "SyBhhhyXiyu2"
      }
    },
    {
      "cell_type": "code",
      "source": [
        "import pandas as pd\n",
        "\n",
        "data = {'col1': [1, 2, 3, 4, 7, 11],\n",
        "        'col2': [4, 5, 6, 9, 5, 0],\n",
        "        'col3': [7, 5, 8, 12, 1, 11]}\n",
        "\n",
        "df = pd.DataFrame(data)\n",
        "print(\"Original DataFrame\")\n",
        "print(df)\n",
        "records = df.head(3)\n",
        "print(\"First 3 rows of the said DataFrame:\")\n",
        "print(records)\n"
      ],
      "metadata": {
        "colab": {
          "base_uri": "https://localhost:8080/"
        },
        "id": "WaWauk1Vi4T6",
        "outputId": "8e4ff557-dd2a-4a19-deb3-bd42f9af7187"
      },
      "execution_count": null,
      "outputs": [
        {
          "output_type": "stream",
          "name": "stdout",
          "text": [
            "Original DataFrame\n",
            "   col1  col2  col3\n",
            "0     1     4     7\n",
            "1     2     5     5\n",
            "2     3     6     8\n",
            "3     4     9    12\n",
            "4     7     5     1\n",
            "5    11     0    11\n",
            "First 3 rows of the said DataFrame:\n",
            "   col1  col2  col3\n",
            "0     1     4     7\n",
            "1     2     5     5\n",
            "2     3     6     8\n"
          ]
        }
      ]
    },
    {
      "cell_type": "markdown",
      "source": [
        "##29. Write a Pandas program to get last n records of a DataFrame.\n",
        "\n",
        "```\n",
        "Sample Output:\n",
        "Original DataFrame\n",
        "col1 col2 col3\n",
        "0 1 4 7\n",
        "1 2 5 5\n",
        "2 3 6 8\n",
        "3 4 9 12\n",
        "4 7 5 1\n",
        "5 11 0 11\n",
        "\n",
        "Last 3 rows of the said DataFrame':\n",
        "col1 col2 col3\n",
        "3 4 9 12\n",
        "4 7 5 1\n",
        "5 11 0 11\n",
        "```"
      ],
      "metadata": {
        "id": "6g12CvfHi4uR"
      }
    },
    {
      "cell_type": "code",
      "source": [
        "import pandas as pd\n",
        "\n",
        "data = {'col1': [1, 2, 3, 4, 7, 11],\n",
        "        'col2': [4, 5, 6, 9, 5, 0],\n",
        "        'col3': [7, 5, 8, 12, 1, 11]}\n",
        "\n",
        "df = pd.DataFrame(data)\n",
        "print(\"Original DataFrame\")\n",
        "print(df)\n",
        "records = df.tail(3)\n",
        "print(\"\\nLast 3 rows of the said DataFrame:\")\n",
        "print(records)\n"
      ],
      "metadata": {
        "colab": {
          "base_uri": "https://localhost:8080/"
        },
        "id": "Od1HwYdgi9hm",
        "outputId": "62620357-019e-4a8b-a9c1-5182392b4867"
      },
      "execution_count": null,
      "outputs": [
        {
          "output_type": "stream",
          "name": "stdout",
          "text": [
            "Original DataFrame\n",
            "   col1  col2  col3\n",
            "0     1     4     7\n",
            "1     2     5     5\n",
            "2     3     6     8\n",
            "3     4     9    12\n",
            "4     7     5     1\n",
            "5    11     0    11\n",
            "\n",
            "Last 3 rows of the said DataFrame:\n",
            "   col1  col2  col3\n",
            "3     4     9    12\n",
            "4     7     5     1\n",
            "5    11     0    11\n"
          ]
        }
      ]
    },
    {
      "cell_type": "markdown",
      "source": [
        "##30.  Write a Pandas program to get topmost n records within each group of a DataFrame.\n",
        "\n",
        "```\n",
        "Sample Output:\n",
        "Original DataFrame\n",
        "col1 col2 col3\n",
        "0 1 4 7\n",
        "1 2 5 5\n",
        "2 3 6 8\n",
        "3 4 9 12\n",
        "4 7 5 1\n",
        "5 11 0 11\n",
        "\n",
        "```\n",
        "```\n",
        "topmost n records within each group of a DataFrame:\n",
        "col1 col2 col3\n",
        "5 11 0 11\n",
        "4 7 5 1\n",
        "3 4 9 12\n",
        "col1 col2 col3\n",
        "3 4 9 12\n",
        "2 3 6 8\n",
        "1 2 5 5\n",
        "4 7 5 1\n",
        "col1 col2 col3\n",
        "3 4 9 12\n",
        "5 11 0 11\n",
        "2 3 6 8\n",
        "```"
      ],
      "metadata": {
        "id": "ncxoNNyLjCRK"
      }
    },
    {
      "cell_type": "code",
      "source": [
        "import pandas as pd\n",
        "\n",
        "data = {'col1': [1, 2, 3, 4, 7, 11],\n",
        "        'col2': [4, 5, 6, 9, 5, 0],\n",
        "        'col3': [7, 5, 8, 12, 1, 11]}\n",
        "\n",
        "df = pd.DataFrame(data)\n",
        "print(\"Original DataFrame\")\n",
        "print(df)\n",
        "df1 = df.nlargest(3,'col1')\n",
        "df2 = df.nlargest(4,'col2')\n",
        "df3 = df.nlargest(3,'col3')\n",
        "print(\"topmost n records within each group of a DataFrame:\")\n",
        "print(df1)\n",
        "print(df2)\n",
        "print(df3)"
      ],
      "metadata": {
        "colab": {
          "base_uri": "https://localhost:8080/"
        },
        "id": "ltP6v98mjIjd",
        "outputId": "6d79ccff-8f43-45a7-8c08-1e20c799cc83"
      },
      "execution_count": null,
      "outputs": [
        {
          "output_type": "stream",
          "name": "stdout",
          "text": [
            "Original DataFrame\n",
            "   col1  col2  col3\n",
            "0     1     4     7\n",
            "1     2     5     5\n",
            "2     3     6     8\n",
            "3     4     9    12\n",
            "4     7     5     1\n",
            "5    11     0    11\n",
            "topmost n records within each group of a DataFrame:\n",
            "   col1  col2  col3\n",
            "5    11     0    11\n",
            "4     7     5     1\n",
            "3     4     9    12\n",
            "   col1  col2  col3\n",
            "3     4     9    12\n",
            "2     3     6     8\n",
            "1     2     5     5\n",
            "4     7     5     1\n",
            "   col1  col2  col3\n",
            "3     4     9    12\n",
            "5    11     0    11\n",
            "2     3     6     8\n"
          ]
        }
      ]
    },
    {
      "cell_type": "markdown",
      "source": [
        "##31. Write a Pandas program to add a prefix or suffix to all columns of a given DataFrame.\n",
        "\n",
        "```\n",
        "Sample Output:\n",
        "Original DataFrame\n",
        "W X Y Z\n",
        "0 68 78 84 86\n",
        "1 75 85 94 97\n",
        "2 86 96 89 96\n",
        "3 80 80 83 72\n",
        "4 66 86 86 83\n",
        "\n",
        "Add prefix:\n",
        "A_W A_X A_Y A_Z\n",
        "0 68 78 84 86\n",
        "1 75 85 94 97\n",
        "2 86 96 89 96\n",
        "3 80 80 83 72\n",
        "4 66 86 86 83\n",
        "\n",
        "Add suffix:\n",
        "W_1 X_1 Y_1 Z_1\n",
        "0 68 78 84 86\n",
        "1 75 85 94 97\n",
        "2 86 96 89 96\n",
        "3 80 80 83 72\n",
        "4 66 86 86 83\n",
        "\n",
        "```"
      ],
      "metadata": {
        "id": "SvY3qZ1Mk55X"
      }
    },
    {
      "cell_type": "code",
      "source": [
        "import pandas as pd\n",
        "\n",
        "data = {'W': [68, 75, 86, 80, 66],\n",
        "        'X': [78, 85, 96, 80, 86],\n",
        "        'Y': [84, 94, 89, 83, 86],\n",
        "        'Z': [86, 97, 96, 72, 83]}\n",
        "\n",
        "df = pd.DataFrame(data)\n",
        "print(\"original DataFrame\")\n",
        "print(df)\n",
        "add_prefix = df.add_prefix('A_')\n",
        "add_suffix = df.add_suffix('_1')\n",
        "print(\"Add prefix:\")\n",
        "print(add_prefix)\n",
        "print(\"Add suffix:\")\n",
        "print(add_suffix)"
      ],
      "metadata": {
        "colab": {
          "base_uri": "https://localhost:8080/"
        },
        "id": "4-F-bcD4lGl_",
        "outputId": "a3d5fde1-f93f-4273-e9dd-a320de03cbf7"
      },
      "execution_count": null,
      "outputs": [
        {
          "output_type": "stream",
          "name": "stdout",
          "text": [
            "original DataFrame\n",
            "    W   X   Y   Z\n",
            "0  68  78  84  86\n",
            "1  75  85  94  97\n",
            "2  86  96  89  96\n",
            "3  80  80  83  72\n",
            "4  66  86  86  83\n",
            "Add prefix:\n",
            "   A_W  A_X  A_Y  A_Z\n",
            "0   68   78   84   86\n",
            "1   75   85   94   97\n",
            "2   86   96   89   96\n",
            "3   80   80   83   72\n",
            "4   66   86   86   83\n",
            "Add suffix:\n",
            "   W_1  X_1  Y_1  Z_1\n",
            "0   68   78   84   86\n",
            "1   75   85   94   97\n",
            "2   86   96   89   96\n",
            "3   80   80   83   72\n",
            "4   66   86   86   83\n"
          ]
        }
      ]
    },
    {
      "cell_type": "markdown",
      "source": [
        "##32. Write a Pandas program to convert continuous values of a column in a given DataFrame to categorical.\n",
        "```\n",
        "Input:\n",
        "{ 'Name': ['Alberto Franco','Gino Mcneill','Ryan Parkes', 'Eesha Hinton', 'Syed Wharton'],\n",
        "'Age': [18, 22, 40, 50, 80, 5] }\n",
        "\n",
        "\n",
        "Output:\n",
        "Age group:\n",
        "0 kids\n",
        "1 adult\n",
        "2 elderly\n",
        "3 adult\n",
        "4 elderly\n",
        "5 kids\n",
        "Name: age_groups, dtype: category\n",
        "Categories (3, object): [kids < adult < elderly]\n",
        "```"
      ],
      "metadata": {
        "id": "HqJSO9XAlHCH"
      }
    },
    {
      "cell_type": "code",
      "source": [
        "import pandas as pd\n",
        "df = pd.DataFrame({\n",
        "    'name': ['Alberto Franco','Gino Mcneill','Ryan Parkes', 'Eesha Hinton', 'Syed Wharton', 'Kierra Gentry'],\n",
        "      'age': [18, 22, 85, 50, 80, 5]\n",
        "})\n",
        "print(\"Original DataFrame\")\n",
        "print(df)\n",
        "print(\"Age Group\")\n",
        "df['age_group'] = pd.cut(df['age'],bins = [0,18,22,99],labels = [\"kids\",\"adult\",'elderly'])\n",
        "print(df['age_group'])"
      ],
      "metadata": {
        "colab": {
          "base_uri": "https://localhost:8080/"
        },
        "id": "TbCSHUcFlNRP",
        "outputId": "eebe9de2-707f-472c-af07-fbcb02fd11e3"
      },
      "execution_count": null,
      "outputs": [
        {
          "output_type": "stream",
          "name": "stdout",
          "text": [
            "Original DataFrame\n",
            "             name  age\n",
            "0  Alberto Franco   18\n",
            "1    Gino Mcneill   22\n",
            "2     Ryan Parkes   85\n",
            "3    Eesha Hinton   50\n",
            "4    Syed Wharton   80\n",
            "5   Kierra Gentry    5\n",
            "Age Group\n",
            "0       kids\n",
            "1      adult\n",
            "2    elderly\n",
            "3    elderly\n",
            "4    elderly\n",
            "5       kids\n",
            "Name: age_group, dtype: category\n",
            "Categories (3, object): ['kids' < 'adult' < 'elderly']\n"
          ]
        }
      ]
    },
    {
      "cell_type": "markdown",
      "source": [
        "##33. Write a Pandas program to append rows to an existing DataFrame and display the combined data.\n",
        "\n",
        "```\n",
        "Test Data:\n",
        "tudent_data1\n",
        "  student_id              name  marks\n",
        "0         S1  Danniella Fenton    200\n",
        "1         S2      Ryder Storey    210\n",
        "2         S3      Bryce Jensen    190\n",
        "3         S4         Ed Bernal    222\n",
        "4         S5       Kwame Morin    199\n",
        "\n",
        "\n",
        "New Row(s)\n",
        "student_id                  S6\n",
        "name          Scarlette Fisher\n",
        "marks                      205\n",
        "dtype: object\n",
        "```"
      ],
      "metadata": {
        "id": "y-y76b2mlNur"
      }
    },
    {
      "cell_type": "code",
      "source": [
        "import pandas as pd\n",
        "\n",
        "student_data1 = pd.DataFrame({\n",
        "    'student_id': ['S1', 'S2', 'S3', 'S4', 'S5'],\n",
        "    'name': ['Danniella Fenton', 'Ryder Storey', 'Bryce Jensen', 'Ed Bernal', 'Kwame Morin'],\n",
        "    'marks': [200, 210, 190, 222, 199]\n",
        "})\n",
        "print(\"Original DataFrame\")\n",
        "print(student_data1)\n",
        "new_row = pd.Series({'student_id':'S6','name':'Scarlette Fisher','marks':205})\n",
        "combined_row = student_data1.append(new_row, ignore_index=True)\n",
        "print(\"Combined Row\")\n",
        "print(combined_row)"
      ],
      "metadata": {
        "colab": {
          "base_uri": "https://localhost:8080/"
        },
        "id": "pw3N-5eelTAh",
        "outputId": "8909d027-d4c8-4a50-e9a7-7e758fd9793c"
      },
      "execution_count": null,
      "outputs": [
        {
          "output_type": "stream",
          "name": "stdout",
          "text": [
            "Original DataFrame\n",
            "  student_id              name  marks\n",
            "0         S1  Danniella Fenton    200\n",
            "1         S2      Ryder Storey    210\n",
            "2         S3      Bryce Jensen    190\n",
            "3         S4         Ed Bernal    222\n",
            "4         S5       Kwame Morin    199\n",
            "Combined Row\n",
            "  student_id              name  marks\n",
            "0         S1  Danniella Fenton    200\n",
            "1         S2      Ryder Storey    210\n",
            "2         S3      Bryce Jensen    190\n",
            "3         S4         Ed Bernal    222\n",
            "4         S5       Kwame Morin    199\n",
            "5         S6  Scarlette Fisher    205\n"
          ]
        },
        {
          "output_type": "stream",
          "name": "stderr",
          "text": [
            "<ipython-input-18-a19341333eb8>:11: FutureWarning: The frame.append method is deprecated and will be removed from pandas in a future version. Use pandas.concat instead.\n",
            "  combined_row = student_data1.append(new_row, ignore_index=True)\n"
          ]
        }
      ]
    },
    {
      "cell_type": "markdown",
      "source": [
        "##34  Write a Pandas program to join the two given dataframes along rows and merge with another dataframe along the common column id.\n",
        "\n",
        "```\n",
        "Test Data:\n",
        "student_data1:\n",
        "  student_id              name  marks\n",
        "0         S1  Danniella Fenton    200\n",
        "1         S2      Ryder Storey    210\n",
        "2         S3      Bryce Jensen    190\n",
        "3         S4         Ed Bernal    222\n",
        "4         S5       Kwame Morin    199\n",
        "student_data2:\n",
        "  student_id              name  marks\n",
        "0         S4  Scarlette Fisher    201\n",
        "1         S5  Carla Williamson    200\n",
        "2         S6       Dante Morse    198\n",
        "3         S7    Kaiser William    219\n",
        "4         S8   Madeeha Preston    201\n",
        "```\n",
        "```\n",
        "\n",
        "exam_data:\n",
        "   student_id  exam_id\n",
        "0          S1       23\n",
        "1          S2       45\n",
        "2          S3       12\n",
        "3          S4       67\n",
        "4          S5       21\n",
        "5          S7       55\n",
        "6          S8       33\n",
        "7          S9       14\n",
        "8         S10       56\n",
        "9         S11       83\n",
        "10        S12       88\n",
        "11        S13       12\n",
        "```"
      ],
      "metadata": {
        "id": "INXXIMNblTYT"
      }
    },
    {
      "cell_type": "code",
      "source": [
        "import pandas as pd\n",
        "student_data1 = pd.DataFrame({\n",
        "        'student_id': ['S1', 'S2', 'S3', 'S4', 'S5'],\n",
        "         'name': ['Danniella Fenton', 'Ryder Storey', 'Bryce Jensen', 'Ed Bernal', 'Kwame Morin'],\n",
        "        'marks': [200, 210, 190, 222, 199]})\n",
        "\n",
        "student_data2 = pd.DataFrame({\n",
        "        'student_id': ['S4', 'S5', 'S6', 'S7', 'S8'],\n",
        "        'name': ['Scarlette Fisher', 'Carla Williamson', 'Dante Morse', 'Kaiser William', 'Madeeha Preston'],\n",
        "        'marks': [201, 200, 198, 219, 201]})\n",
        "\n",
        "exam_data = pd.DataFrame({\n",
        "        'student_id': ['S1', 'S2', 'S3', 'S4', 'S5', 'S7', 'S8', 'S9', 'S10', 'S11', 'S12', 'S13'],\n",
        "        'exam_id': [23, 45, 12, 67, 21, 55, 33, 14, 56, 83, 88, 12]})\n",
        "\n",
        "print(\"Original DataFrames:\")\n",
        "print(student_data1)\n",
        "print(student_data2)\n",
        "print(exam_data)\n",
        "\n",
        "result_data = pd.concat([student_data1, student_data2])\n",
        "\n",
        "print(\"\\nNow join the said result_data and df_exam_data along student_id:\")\n",
        "final_merged_data = pd.merge(result_data, exam_data, on='student_id')\n",
        "print(final_merged_data)"
      ],
      "metadata": {
        "colab": {
          "base_uri": "https://localhost:8080/"
        },
        "id": "CYRoOuqzlazr",
        "outputId": "ea961ffb-7cc3-43a0-bff2-9a3bab237594"
      },
      "execution_count": null,
      "outputs": [
        {
          "output_type": "stream",
          "name": "stdout",
          "text": [
            "Original DataFrames:\n",
            "  student_id              name  marks\n",
            "0         S1  Danniella Fenton    200\n",
            "1         S2      Ryder Storey    210\n",
            "2         S3      Bryce Jensen    190\n",
            "3         S4         Ed Bernal    222\n",
            "4         S5       Kwame Morin    199\n",
            "  student_id              name  marks\n",
            "0         S4  Scarlette Fisher    201\n",
            "1         S5  Carla Williamson    200\n",
            "2         S6       Dante Morse    198\n",
            "3         S7    Kaiser William    219\n",
            "4         S8   Madeeha Preston    201\n",
            "   student_id  exam_id\n",
            "0          S1       23\n",
            "1          S2       45\n",
            "2          S3       12\n",
            "3          S4       67\n",
            "4          S5       21\n",
            "5          S7       55\n",
            "6          S8       33\n",
            "7          S9       14\n",
            "8         S10       56\n",
            "9         S11       83\n",
            "10        S12       88\n",
            "11        S13       12\n",
            "\n",
            "Now join the said result_data and df_exam_data along student_id:\n",
            "  student_id              name  marks  exam_id\n",
            "0         S1  Danniella Fenton    200       23\n",
            "1         S2      Ryder Storey    210       45\n",
            "2         S3      Bryce Jensen    190       12\n",
            "3         S4         Ed Bernal    222       67\n",
            "4         S4  Scarlette Fisher    201       67\n",
            "5         S5       Kwame Morin    199       21\n",
            "6         S5  Carla Williamson    200       21\n",
            "7         S7    Kaiser William    219       55\n",
            "8         S8   Madeeha Preston    201       33\n"
          ]
        }
      ]
    },
    {
      "cell_type": "markdown",
      "source": [],
      "metadata": {
        "id": "k0AzjGUdlbSM"
      }
    }
  ]
}