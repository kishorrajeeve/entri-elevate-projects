{
  "nbformat": 4,
  "nbformat_minor": 0,
  "metadata": {
    "colab": {
      "provenance": []
    },
    "kernelspec": {
      "name": "python3",
      "display_name": "Python 3"
    },
    "language_info": {
      "name": "python"
    }
  },
  "cells": [
    {
      "cell_type": "markdown",
      "source": [
        "1.Write a Python program to create a class representing a Circle. Include methods to calculate its area and perimeter."
      ],
      "metadata": {
        "id": "0Zkw1FlkyaC4"
      }
    },
    {
      "cell_type": "code",
      "execution_count": null,
      "metadata": {
        "colab": {
          "base_uri": "https://localhost:8080/"
        },
        "id": "k8uASwFpyFgE",
        "outputId": "d2a615eb-8790-46ad-df6a-6495b2efa887"
      },
      "outputs": [
        {
          "output_type": "stream",
          "name": "stdout",
          "text": [
            "Enter the radius of circle...8\n",
            "The radius entered is :\n",
            "8\n",
            "The computed area of circle is \n",
            "201.06\n",
            "The computed perimeter of circle is :\n",
            "50.27\n"
          ]
        }
      ],
      "source": [
        "import math\n",
        "class circle_compute():\n",
        "   def __init__(self,my_radius):\n",
        "      self.radius=my_radius\n",
        "   def area_calculate(self):\n",
        "      return math.pi*(self.radius**2)\n",
        "   def perimeter_calculate(self):\n",
        "      return 2*math.pi*self.radius\n",
        "my_result = int(input(\"Enter the radius of circle...\"))\n",
        "my_instance = circle_compute(my_result)\n",
        "print(\"The radius entered is :\")\n",
        "print(my_result)\n",
        "print(\"The computed area of circle is \")\n",
        "print(round(my_instance.area_calculate(),2))\n",
        "print(\"The computed perimeter of circle is :\")\n",
        "print(round(my_instance.perimeter_calculate(),2))"
      ]
    },
    {
      "cell_type": "markdown",
      "source": [
        "2.Write a Python program to create a calculator class. Include methods for basic arithmetic operations."
      ],
      "metadata": {
        "id": "N3LqvwPmypv1"
      }
    },
    {
      "cell_type": "code",
      "source": [
        "class Calculator:\n",
        "\n",
        "    def add(self, x, y):\n",
        "        return x + y\n",
        "\n",
        "\n",
        "    def subtract(self, x, y):\n",
        "        return x - y\n",
        "\n",
        "\n",
        "    def multiply(self, x, y):\n",
        "        return x * y\n",
        "\n",
        "\n",
        "    def divide(self, x, y):\n",
        "        if y != 0:\n",
        "            return x / y\n",
        "        else:\n",
        "            return (\"Cannot divide by zero.\")\n",
        "calculator = Calculator()\n",
        "result = calculator.add(7, 5)\n",
        "print(\"7 + 5 =\", result)\n",
        "result = calculator.subtract(34, 21)\n",
        "print(\"34 - 21 =\", result)\n",
        "result = calculator.multiply(54, 2)\n",
        "print(\"54 * 2 =\", result)\n",
        "result = calculator.divide(144, 2)\n",
        "print(\"144 / 2 =\", result)\n",
        "result = calculator.divide(45, 0)\n",
        "print(\"45 / 0 =\", result)"
      ],
      "metadata": {
        "colab": {
          "base_uri": "https://localhost:8080/"
        },
        "id": "z9lso3ikyvKH",
        "outputId": "63b797a6-5566-4453-f4a4-a0d4af3e33d3"
      },
      "execution_count": null,
      "outputs": [
        {
          "output_type": "stream",
          "name": "stdout",
          "text": [
            "7 + 5 = 12\n",
            "34 - 21 = 13\n",
            "54 * 2 = 108\n",
            "144 / 2 = 72.0\n",
            "45 / 0 = Cannot divide by zero.\n"
          ]
        }
      ]
    },
    {
      "cell_type": "markdown",
      "source": [
        "3. Write a Python program to create a class that represents a shape. Include methods to calculate its area and perimeter. Implement subclasses for different shapes like circle, triangle, and square."
      ],
      "metadata": {
        "id": "_ZhDOaRz0lv0"
      }
    },
    {
      "cell_type": "code",
      "source": [
        "# prompt:\n",
        "import math\n",
        "class Shape:\n",
        "    def __init__(self, name):\n",
        "        self.name = name\n",
        "\n",
        "    def area(self):\n",
        "        pass\n",
        "\n",
        "    def perimeter(self):\n",
        "        pass\n",
        "\n",
        "class Circle(Shape):\n",
        "    def __init__(self, name, radius):\n",
        "        super().__init__(name)\n",
        "        self.radius = radius\n",
        "\n",
        "    def area(self):\n",
        "        return math.pi * self.radius ** 2\n",
        "\n",
        "    def perimeter(self):\n",
        "        return 2 * math.pi * self.radius\n",
        "\n",
        "class Triangle(Shape):\n",
        "    def __init__(self, name, base, height):\n",
        "        super().__init__(name)\n",
        "        self.base = base\n",
        "        self.height = height\n",
        "\n",
        "    def area(self):\n",
        "        return 0.5 * self.base * self.height\n",
        "\n",
        "    def perimeter(self):\n",
        "        return self.base + self.height + math.hypot(self.base, self.height)\n",
        "\n",
        "class Square(Shape):\n",
        "    def __init__(self, name, side):\n",
        "        super().__init__(name)\n",
        "        self.side = side\n",
        "\n",
        "    def area(self):\n",
        "        return self.side ** 2\n",
        "\n",
        "    def perimeter(self):\n",
        "        return 4 * self.side\n",
        "\n",
        "circle = Circle(\"Circle\", 5)\n",
        "triangle = Triangle(\"Triangle\", 3, 4)\n",
        "square = Square(\"Square\", 6)\n",
        "\n",
        "print(circle.area())\n",
        "print(circle.perimeter())\n",
        "\n",
        "print(triangle.area())\n",
        "print(triangle.perimeter())\n",
        "\n",
        "print(square.area())\n",
        "print(square.perimeter())\n"
      ],
      "metadata": {
        "id": "g3As6vUW15uk",
        "colab": {
          "base_uri": "https://localhost:8080/"
        },
        "outputId": "437a9c47-2c63-4c09-e37b-20d9ddcb9340"
      },
      "execution_count": null,
      "outputs": [
        {
          "output_type": "stream",
          "name": "stdout",
          "text": [
            "78.53981633974483\n",
            "31.41592653589793\n",
            "6.0\n",
            "12.0\n",
            "36\n",
            "24\n"
          ]
        }
      ]
    }
  ]
}