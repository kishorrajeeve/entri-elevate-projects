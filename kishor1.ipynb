{
  "nbformat": 4,
  "nbformat_minor": 0,
  "metadata": {
    "colab": {
      "provenance": [],
      "include_colab_link": true
    },
    "kernelspec": {
      "name": "python3",
      "display_name": "Python 3"
    },
    "language_info": {
      "name": "python"
    }
  },
  "cells": [
    {
      "cell_type": "markdown",
      "metadata": {
        "id": "view-in-github",
        "colab_type": "text"
      },
      "source": [
        "<a href=\"https://colab.research.google.com/github/kishorrajeeve/entri-elevate-projects/blob/main/kishor1.ipynb\" target=\"_parent\"><img src=\"https://colab.research.google.com/assets/colab-badge.svg\" alt=\"Open In Colab\"/></a>"
      ]
    },
    {
      "cell_type": "markdown",
      "source": [
        " 1. Write a Python program to sum all the items in a list**"
      ],
      "metadata": {
        "id": "8IrpGrtlqIdt"
      }
    },
    {
      "cell_type": "code",
      "source": [
        "list=[5,6,8,9,7]\n",
        "result=[]\n",
        "result=sum(list)\n",
        "print(result)"
      ],
      "metadata": {
        "colab": {
          "base_uri": "https://localhost:8080/"
        },
        "id": "la19j3WtqXaC",
        "outputId": "d6235952-222d-4f96-a78a-129d32d42768"
      },
      "execution_count": null,
      "outputs": [
        {
          "output_type": "stream",
          "name": "stdout",
          "text": [
            "35\n"
          ]
        }
      ]
    },
    {
      "cell_type": "markdown",
      "source": [
        "2. Write a Python program to get the largest number from a list"
      ],
      "metadata": {
        "id": "IH7qdIGVtHe5"
      }
    },
    {
      "cell_type": "code",
      "source": [
        "list=[4,6,7,8,989]\n",
        "result=[]\n",
        "result=max(list)\n",
        "print(result)"
      ],
      "metadata": {
        "colab": {
          "base_uri": "https://localhost:8080/"
        },
        "id": "cBomsKDOtM9C",
        "outputId": "186305bf-cb09-4e66-cbc0-289f39e1d277"
      },
      "execution_count": null,
      "outputs": [
        {
          "output_type": "stream",
          "name": "stdout",
          "text": [
            "989\n"
          ]
        }
      ]
    },
    {
      "cell_type": "markdown",
      "source": [
        "3.Write a Python program to count the number of strings from a given list of strings. The string length is 2 or more and the first and last characters are the same."
      ],
      "metadata": {
        "id": "gre46JBwF3eN"
      }
    },
    {
      "cell_type": "code",
      "source": [
        "\n",
        "list=['aba', 'ghbj','fg','yu','1221']\n",
        "li=[i for i in list if (len(i)>=2 and i[0]==i[-1])]\n",
        "print('result : ',li)\n",
        "print('no of string:',len(li))\n"
      ],
      "metadata": {
        "colab": {
          "base_uri": "https://localhost:8080/"
        },
        "id": "T_tPfJAEHwMI",
        "outputId": "3f4323b1-98a3-44cf-f7b0-54192571fc52"
      },
      "execution_count": null,
      "outputs": [
        {
          "output_type": "stream",
          "name": "stdout",
          "text": [
            "result :  ['aba', '1221']\n",
            "no of string: 2\n"
          ]
        }
      ]
    },
    {
      "cell_type": "markdown",
      "source": [
        "4. Write a Python program to remove duplicates from a list."
      ],
      "metadata": {
        "id": "JnZ3hPq3inej"
      }
    },
    {
      "cell_type": "code",
      "source": [
        "l1=(1,3,3,5,3,5,7,2,4,6,3)\n",
        "print((set(l1)))"
      ],
      "metadata": {
        "colab": {
          "base_uri": "https://localhost:8080/"
        },
        "id": "9ape0GRAiwLu",
        "outputId": "b31c07e9-8ed0-4a8b-9d3c-9f165164064e"
      },
      "execution_count": null,
      "outputs": [
        {
          "output_type": "stream",
          "name": "stdout",
          "text": [
            "{1, 2, 3, 4, 5, 6, 7}\n"
          ]
        }
      ]
    },
    {
      "cell_type": "markdown",
      "source": [
        "5. Write a Python program to check if a list is empty or not"
      ],
      "metadata": {
        "id": "Umwo3G-3ugNR"
      }
    },
    {
      "cell_type": "code",
      "source": [
        "l1=[]\n",
        "if len(l1)==0:\n",
        "  print('list is empty')\n",
        "else:\n",
        "  print('list is not empty')"
      ],
      "metadata": {
        "colab": {
          "base_uri": "https://localhost:8080/"
        },
        "id": "LhXpSw9Puos1",
        "outputId": "3be23b62-5f8a-4d45-889b-0a08636faa02"
      },
      "execution_count": null,
      "outputs": [
        {
          "output_type": "stream",
          "name": "stdout",
          "text": [
            "list is empty\n"
          ]
        }
      ]
    },
    {
      "cell_type": "markdown",
      "source": [
        "6.Write a Python program to filter the list if the length of the character is < 4"
      ],
      "metadata": {
        "id": "TxX9uQLpvd-Y"
      }
    },
    {
      "cell_type": "code",
      "source": [
        "l1=['fish','birds','cat','deer','dog']\n",
        "result_list=[i for i in l1 if len(i)<4]\n",
        "print(result_list)\n",
        "\n"
      ],
      "metadata": {
        "colab": {
          "base_uri": "https://localhost:8080/"
        },
        "id": "7NbWREjdvn94",
        "outputId": "512174fa-ddfa-4191-8926-abf099df64cb"
      },
      "execution_count": null,
      "outputs": [
        {
          "output_type": "stream",
          "name": "stdout",
          "text": [
            "['cat', 'dog']\n"
          ]
        }
      ]
    },
    {
      "cell_type": "markdown",
      "source": [
        "7.Write a Python program to find the second largest number in a list."
      ],
      "metadata": {
        "id": "Ixa-7c8LybT2"
      }
    },
    {
      "cell_type": "code",
      "source": [
        "l1=[1,3,3,3,5,5,7,9,6]\n",
        "l1.sort()\n",
        "print(l1[-2])"
      ],
      "metadata": {
        "colab": {
          "base_uri": "https://localhost:8080/"
        },
        "id": "CI1p_k5yy2af",
        "outputId": "e57de787-44d4-43e8-a3c8-65b3ab99e87c"
      },
      "execution_count": null,
      "outputs": [
        {
          "output_type": "stream",
          "name": "stdout",
          "text": [
            "7\n"
          ]
        }
      ]
    },
    {
      "cell_type": "markdown",
      "source": [
        "8.Write a Python program to reverse a list at a specific location"
      ],
      "metadata": {
        "id": "DR5ApviRPyDs"
      }
    },
    {
      "cell_type": "code",
      "source": [
        "l1=[1,2,3,4,5,6]\n",
        "loc=3\n",
        "l1r=l1[0:loc-1]\n",
        "l2r=l1[loc-1:]\n",
        "print(l1r+l2r[::-1])"
      ],
      "metadata": {
        "colab": {
          "base_uri": "https://localhost:8080/"
        },
        "id": "2eGNrpAIMgxd",
        "outputId": "a2b2e17f-65df-4772-8926-72517c568d52"
      },
      "execution_count": null,
      "outputs": [
        {
          "output_type": "stream",
          "name": "stdout",
          "text": [
            "[1, 2, 6, 5, 4, 3]\n"
          ]
        }
      ]
    },
    {
      "cell_type": "markdown",
      "source": [
        "9.Write a Python program to check if a list is a palindrome or not. Return true otherwise false."
      ],
      "metadata": {
        "id": "CjIlOg9zTX9C"
      }
    },
    {
      "cell_type": "code",
      "source": [
        "l1=list(input(\"Enter the list:\"))\n",
        "lr=l1[::-1]\n",
        "if(l1==lr):\n",
        "  print('the string is paliandrome')\n",
        "else:\n",
        "  prnt('the string  is not palindrome')"
      ],
      "metadata": {
        "colab": {
          "base_uri": "https://localhost:8080/"
        },
        "id": "1DOfSteHTeNq",
        "outputId": "59b27f2e-8911-47fa-93ff-a825bfe6a63b"
      },
      "execution_count": null,
      "outputs": [
        {
          "output_type": "stream",
          "name": "stdout",
          "text": [
            "Enter the list:malayalam\n",
            "the string is paliandrome\n"
          ]
        }
      ]
    },
    {
      "cell_type": "markdown",
      "source": [
        "10. Write a Python a program to find the union and intersection of two lists."
      ],
      "metadata": {
        "id": "RTsGbWaqUOnV"
      }
    },
    {
      "cell_type": "code",
      "source": [
        "l1=[2,3,3,8,6,9]\n",
        "l2=[8,6,6,6,4,3,4,1,]\n",
        "s1=set(l1)\n",
        "s2=set(l2)\n",
        "print(list(s1.union(s2)))\n",
        "print(list(s1.intersection(s2)))"
      ],
      "metadata": {
        "colab": {
          "base_uri": "https://localhost:8080/"
        },
        "id": "tU_xQQbWUWP2",
        "outputId": "9669cb30-cc3a-4eac-c4ff-2968a3afd730"
      },
      "execution_count": null,
      "outputs": [
        {
          "output_type": "stream",
          "name": "stdout",
          "text": [
            "[1, 2, 3, 4, 6, 8, 9]\n",
            "[8, 3, 6]\n"
          ]
        }
      ]
    },
    {
      "cell_type": "markdown",
      "source": [
        "11.Write a Python script to sort (ascending and descending) a dictionary by value"
      ],
      "metadata": {
        "id": "Y9pX6bTOYaeA"
      }
    },
    {
      "cell_type": "code",
      "source": [
        "my_dict = {\"banana\": 5,\"apple\":2,\"orange\":8,\"grape\":3}\n",
        "\n",
        "def get_value(item): #takes argument(item) i.e (5,2,8,3) and returns the value of index 1 in the tuple\n",
        "    return item[1]   #([(key1,value1),(key2,value2),.....])\n",
        "\n",
        "sorted_dict=dict(sorted(my_dict.items(),key=get_value)) #key reads (5,2,8,3) and sort it\n",
        "print(sorted_dict)\n"
      ],
      "metadata": {
        "colab": {
          "base_uri": "https://localhost:8080/"
        },
        "id": "IwaEN8_0YrLa",
        "outputId": "5e19ecce-ea68-4eff-ee1b-4620b9e808a7"
      },
      "execution_count": 2,
      "outputs": [
        {
          "output_type": "stream",
          "name": "stdout",
          "text": [
            "{'apple': 2, 'grape': 3, 'banana': 5, 'orange': 8}\n"
          ]
        }
      ]
    },
    {
      "cell_type": "markdown",
      "source": [
        "12.Write a Python script to check whether a given key already exists in a dictionary."
      ],
      "metadata": {
        "id": "QGUil_XBZN_o"
      }
    },
    {
      "cell_type": "code",
      "source": [
        "def check_key(dict,key):\n",
        "  if key in dict:\n",
        "    print(\"exist\")\n",
        "  else:\n",
        "    print(\"not exist\")\n",
        "dict={\"apple\":2,\"cherry\":6,\"lemon\":3}\n",
        "key=\"cherry\"\n",
        "check_key(dict,key)"
      ],
      "metadata": {
        "colab": {
          "base_uri": "https://localhost:8080/"
        },
        "id": "qDZ0vO3GZZNb",
        "outputId": "433a321b-388b-443e-e59a-2c82ce3d5d08"
      },
      "execution_count": null,
      "outputs": [
        {
          "output_type": "stream",
          "name": "stdout",
          "text": [
            "exist\n"
          ]
        }
      ]
    },
    {
      "cell_type": "markdown",
      "source": [
        "13.Write a Python program to sum all the values in a dictionary."
      ],
      "metadata": {
        "id": "QEqn2sChcFLl"
      }
    },
    {
      "cell_type": "code",
      "source": [
        "dic1={'a':1,'b':4,'c':7}\n",
        "sum=0\n",
        "for i in dic1.values():\n",
        "  sum+=i\n",
        "print(sum)\n",
        "\n"
      ],
      "metadata": {
        "colab": {
          "base_uri": "https://localhost:8080/"
        },
        "id": "odor2gEMcK4h",
        "outputId": "4ae2368d-e088-4ce2-e9c1-8c0ee9f57a60"
      },
      "execution_count": null,
      "outputs": [
        {
          "output_type": "stream",
          "name": "stdout",
          "text": [
            "12\n"
          ]
        }
      ]
    },
    {
      "cell_type": "markdown",
      "source": [
        "14.Write a Python program to create a dictionary with a number and its corresponding square from 1 to input number. And also check if the input number is less than 10"
      ],
      "metadata": {
        "id": "Ig5Zd92_fbkD"
      }
    },
    {
      "cell_type": "code",
      "source": [
        "k=int(input('enter the number: '))\n",
        "if k<10:\n",
        "  print({h:h*h for h in range(1,k+1)})\n",
        "else:\n",
        "  print(\"input number is greater than 10\")"
      ],
      "metadata": {
        "colab": {
          "base_uri": "https://localhost:8080/"
        },
        "id": "sZ3eDifBfg_S",
        "outputId": "7b7438dc-74a8-4917-f89f-5387909a76bf"
      },
      "execution_count": null,
      "outputs": [
        {
          "output_type": "stream",
          "name": "stdout",
          "text": [
            "enter the number: 9\n",
            "{1: 1, 2: 4, 3: 9, 4: 16, 5: 25, 6: 36, 7: 49, 8: 64, 9: 81}\n"
          ]
        }
      ]
    },
    {
      "cell_type": "markdown",
      "source": [
        "15.Write a Python program to sort a given dictionary by key."
      ],
      "metadata": {
        "id": "1gHE7s1oh8yz"
      }
    },
    {
      "cell_type": "code",
      "source": [
        "mydict = {'name': 'John', 'age': 25, 'job': 'Developer', 'city': 'Seattle'}\n",
        "mykeys=list(mydict.keys())\n",
        "mykeys.sort()\n",
        "sorteddict={i:mydict[i] for i in mykeys}\n",
        "print(sorteddict)\n",
        "\n"
      ],
      "metadata": {
        "colab": {
          "base_uri": "https://localhost:8080/"
        },
        "id": "mo05lotnijSz",
        "outputId": "5cc43f70-b8c1-43d9-bdae-e1bac90407db"
      },
      "execution_count": null,
      "outputs": [
        {
          "output_type": "stream",
          "name": "stdout",
          "text": [
            "{'age': 25, 'city': 'Seattle', 'job': 'Developer', 'name': 'John'}\n"
          ]
        }
      ]
    },
    {
      "cell_type": "markdown",
      "source": [
        "16.Write a Python program to create a dictionary from a string."
      ],
      "metadata": {
        "id": "eTSY50DS7ElY"
      }
    },
    {
      "cell_type": "code",
      "source": [
        "mystr='helloworld'\n",
        "mydict=dict()\n",
        "for i in mystr:\n",
        "  if i in mydict:\n",
        "    mydict[i]+=1\n",
        "  else:\n",
        "    mydict[i]=1\n",
        "print(mydict)\n"
      ],
      "metadata": {
        "colab": {
          "base_uri": "https://localhost:8080/"
        },
        "id": "_FIJu3ldwcOM",
        "outputId": "4935b542-2d9c-482f-c930-58dbd9430bbd"
      },
      "execution_count": null,
      "outputs": [
        {
          "output_type": "stream",
          "name": "stdout",
          "text": [
            "{'h': 1, 'e': 1, 'l': 3, 'o': 2, 'w': 1, 'r': 1, 'd': 1}\n"
          ]
        }
      ]
    }
  ]
}